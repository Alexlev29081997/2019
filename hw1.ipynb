{
  "nbformat": 4,
  "nbformat_minor": 0,
  "metadata": {
    "colab": {
      "name": "hw1.ipynb",
      "provenance": [],
      "collapsed_sections": [],
      "toc_visible": true,
      "include_colab_link": true
    },
    "kernelspec": {
      "name": "python3",
      "display_name": "Python 3"
    },
    "language_info": {
      "codemirror_mode": {
        "name": "ipython",
        "version": 3
      },
      "file_extension": ".py",
      "mimetype": "text/x-python",
      "name": "python",
      "nbconvert_exporter": "python",
      "pygments_lexer": "ipython3",
      "version": "3.7.4"
    },
    "toc": {
      "base_numbering": 1,
      "nav_menu": {},
      "number_sections": false,
      "sideBar": true,
      "skip_h1_title": true,
      "title_cell": "Table of Contents",
      "title_sidebar": "Contents",
      "toc_cell": false,
      "toc_position": {},
      "toc_section_display": true,
      "toc_window_display": false
    },
    "accelerator": "GPU"
  },
  "cells": [
    {
      "cell_type": "markdown",
      "metadata": {
        "id": "view-in-github",
        "colab_type": "text"
      },
      "source": [
        "<a href=\"https://colab.research.google.com/github/Alexlev29081997/2019/blob/master/hw1.ipynb\" target=\"_parent\"><img src=\"https://colab.research.google.com/assets/colab-badge.svg\" alt=\"Open In Colab\"/></a>"
      ]
    },
    {
      "cell_type": "markdown",
      "metadata": {
        "colab_type": "text",
        "id": "l3ZEgl7t28Ee"
      },
      "source": [
        "# Homework 1\n",
        "## Introduction\n",
        "### Important dates\n",
        "* Homework release: Thursday, 3rd October 2019\n",
        "* **Homework due**: Wednesday, 16th October 2019 (23:59 hours, 11:59 PM)\n",
        "* Peer review due: Wednesday, 23rd October 2019 (23:59 hours, 11:59 PM)\n",
        "* Grading release: Wednesday, 30th October 2019\n",
        "\n",
        "### Description\n",
        "\n",
        "The data you'll be working with comes from multiple sources. The main data source will be [DBLP](https://dblp.uni-trier.de/), a database of publications from major computer science journals and conferences. A subset of DBLP, which you will use in this assignment, is provided to you via a [google drive folder](https://drive.google.com/file/d/1Kci8joML74tCSzuBbhxtd1ylR4f0dlm6/view). Later on, you will enrich the DBLP data with a dataset on conference rankings and with the proceedings of the [NIPS conference](https://nips.cc/) [1] ('proceedings' is another word for the set of papers published at an academic conference). After loading and cleaning the data, you will answer various questions about its contents.\n",
        "\n",
        "**Some rules:**\n",
        "- You are allowed to use any built-in Python library that comes with Anaconda. If you want to use an external library, you have to justify your choice.\n",
        "- Make sure you use the data folder provided in the repository in *read-only* mode.\n",
        "- Be sure to provide explanations for your answers. A notebook that only has code cells will not suffice.\n",
        "- Also, be sure to *hand in a fully-run and evaluated notebook*. We will not run your notebook for you, we will grade it as is, which means that only the results contained in your evaluated code cells will be considered, and we will not see the results in unevaluated code cells. In order to check whether everything looks as intended, you can check the rendered notebook on the GitHub website once you have pushed your solution there.\n",
        "\n",
        "[1] Note that NIPS was renamed to NeurIPS in 2018, but for simplicity, whenever we say 'NIPS', we really mean 'NIPS and NeurIPS'."
      ]
    },
    {
      "cell_type": "markdown",
      "metadata": {
        "colab_type": "text",
        "id": "A0IIdWOs48BB"
      },
      "source": [
        "## Task A. Getting a sense of the dataset\n",
        "\n",
        "### A1. Loading the data\n",
        "Download the DBLP dataset (available on [google drive](https://drive.google.com/file/d/1Kci8joML74tCSzuBbhxtd1ylR4f0dlm6/view)) and load it into a Pandas dataframe. A row of your dataframe should look as follows:\n",
        "\n",
        "| paper id | author names | publication year | paper title | \n",
        "| :----:|:-------------:| :-----:|:-----:|\n",
        "| conf/nips/doe1036 | [John Doe, Jane Doe] | 2003 | Some Catchy Title: An Expanded and Boring Title | \n",
        "\n",
        "\n",
        "1. Filter the papers: keep only conference papers. For each of the remaining ones, find the acronym of the conference where it was published. Retain only those papers that have been published in the conferences listed in `data/list_of_ai_conferences.txt`. Additionally, add a column named 'conference' to your dataframe.   \n",
        "_Hint: The `paper id` tells you whether a paper was published at a conference, and if so, at which one._\n",
        "\n",
        "2. Report the overall number of papers in the filtered dataset, as well as the number of papers per conference."
      ]
    },
    {
      "cell_type": "code",
      "metadata": {
        "id": "PupVXaMdgC0A",
        "colab_type": "code",
        "colab": {}
      },
      "source": [
        "# Code to read csv file into Colaboratory:\n",
        "!pip install -U -q PyDrive\n",
        "from pydrive.auth import GoogleAuth\n",
        "from pydrive.drive import GoogleDrive\n",
        "from google.colab import auth\n",
        "from oauth2client.client import GoogleCredentials\n",
        "# Authenticate and create the PyDrive client.\n",
        "auth.authenticate_user()\n",
        "gauth = GoogleAuth()\n",
        "gauth.credentials = GoogleCredentials.get_application_default()\n",
        "drive = GoogleDrive(gauth)"
      ],
      "execution_count": 0,
      "outputs": []
    },
    {
      "cell_type": "code",
      "metadata": {
        "colab_type": "code",
        "id": "ara6mLe1l_CQ",
        "colab": {}
      },
      "source": [
        "%matplotlib inline\n",
        "import pandas as pd\n",
        "import numpy as np\n",
        "import re\n",
        "from matplotlib.ticker import MaxNLocator\n",
        "import matplotlib.pyplot as plt\n",
        "from requests import get\n",
        "from bs4 import BeautifulSoup\n",
        "\n",
        "from IPython.display import IFrame"
      ],
      "execution_count": 0,
      "outputs": []
    },
    {
      "cell_type": "code",
      "metadata": {
        "id": "fmX1TurEgPHx",
        "colab_type": "code",
        "colab": {}
      },
      "source": [
        "# We import dblp from google drive\n",
        "id='1Kci8joML74tCSzuBbhxtd1ylR4f0dlm6'\n",
        "\n",
        "downloaded = drive.CreateFile({'id':id}) \n",
        "downloaded.GetContentFile('dblp.tsv.bz2')  \n",
        "dblp = pd.read_csv('data/dblp.tsv.bz2', sep=\"\\t\")"
      ],
      "execution_count": 0,
      "outputs": []
    },
    {
      "cell_type": "code",
      "metadata": {
        "id": "bNbSUozweBPL",
        "colab_type": "code",
        "colab": {}
      },
      "source": [
        "# # pip install googledrivedownloader\n",
        "\n",
        "from google_drive_downloader import GoogleDriveDownloader as gdd\n",
        "\n",
        "gdd.download_file_from_google_drive(file_id='1Kci8joML74tCSzuBbhxtd1ylR4f0dlm6',\n",
        "                                     dest_path='data/dblp.tsv.bz2',\n",
        "                                     unzip=False)"
      ],
      "execution_count": 0,
      "outputs": []
    },
    {
      "cell_type": "code",
      "metadata": {
        "id": "C58WGsc3eBPT",
        "colab_type": "code",
        "outputId": "61fd4955-bce9-46d8-d360-d790eda9e8f3",
        "colab": {
          "base_uri": "https://localhost:8080/",
          "height": 485
        }
      },
      "source": [
        "# We can also import directly from the computer\n",
        "dblp = pd.read_csv(\"data/dblp.tsv.bz2\", sep='\\t')"
      ],
      "execution_count": 0,
      "outputs": [
        {
          "output_type": "error",
          "ename": "KeyboardInterrupt",
          "evalue": "ignored",
          "traceback": [
            "\u001b[0;31m---------------------------------------------------------------------------\u001b[0m",
            "\u001b[0;31mKeyboardInterrupt\u001b[0m                         Traceback (most recent call last)",
            "\u001b[0;32m<ipython-input-155-fede12e33440>\u001b[0m in \u001b[0;36m<module>\u001b[0;34m()\u001b[0m\n\u001b[0;32m----> 1\u001b[0;31m \u001b[0mdblp\u001b[0m \u001b[0;34m=\u001b[0m \u001b[0mpd\u001b[0m\u001b[0;34m.\u001b[0m\u001b[0mread_csv\u001b[0m\u001b[0;34m(\u001b[0m\u001b[0;34m\"data/dblp.tsv.bz2\"\u001b[0m\u001b[0;34m,\u001b[0m \u001b[0msep\u001b[0m\u001b[0;34m=\u001b[0m\u001b[0;34m'\\t'\u001b[0m\u001b[0;34m)\u001b[0m\u001b[0;34m\u001b[0m\u001b[0;34m\u001b[0m\u001b[0m\n\u001b[0m",
            "\u001b[0;32m/usr/local/lib/python3.6/dist-packages/pandas/io/parsers.py\u001b[0m in \u001b[0;36mparser_f\u001b[0;34m(filepath_or_buffer, sep, delimiter, header, names, index_col, usecols, squeeze, prefix, mangle_dupe_cols, dtype, engine, converters, true_values, false_values, skipinitialspace, skiprows, skipfooter, nrows, na_values, keep_default_na, na_filter, verbose, skip_blank_lines, parse_dates, infer_datetime_format, keep_date_col, date_parser, dayfirst, iterator, chunksize, compression, thousands, decimal, lineterminator, quotechar, quoting, doublequote, escapechar, comment, encoding, dialect, tupleize_cols, error_bad_lines, warn_bad_lines, delim_whitespace, low_memory, memory_map, float_precision)\u001b[0m\n\u001b[1;32m    700\u001b[0m                     skip_blank_lines=skip_blank_lines)\n\u001b[1;32m    701\u001b[0m \u001b[0;34m\u001b[0m\u001b[0m\n\u001b[0;32m--> 702\u001b[0;31m         \u001b[0;32mreturn\u001b[0m \u001b[0m_read\u001b[0m\u001b[0;34m(\u001b[0m\u001b[0mfilepath_or_buffer\u001b[0m\u001b[0;34m,\u001b[0m \u001b[0mkwds\u001b[0m\u001b[0;34m)\u001b[0m\u001b[0;34m\u001b[0m\u001b[0;34m\u001b[0m\u001b[0m\n\u001b[0m\u001b[1;32m    703\u001b[0m \u001b[0;34m\u001b[0m\u001b[0m\n\u001b[1;32m    704\u001b[0m     \u001b[0mparser_f\u001b[0m\u001b[0;34m.\u001b[0m\u001b[0m__name__\u001b[0m \u001b[0;34m=\u001b[0m \u001b[0mname\u001b[0m\u001b[0;34m\u001b[0m\u001b[0;34m\u001b[0m\u001b[0m\n",
            "\u001b[0;32m/usr/local/lib/python3.6/dist-packages/pandas/io/parsers.py\u001b[0m in \u001b[0;36m_read\u001b[0;34m(filepath_or_buffer, kwds)\u001b[0m\n\u001b[1;32m    433\u001b[0m \u001b[0;34m\u001b[0m\u001b[0m\n\u001b[1;32m    434\u001b[0m     \u001b[0;32mtry\u001b[0m\u001b[0;34m:\u001b[0m\u001b[0;34m\u001b[0m\u001b[0;34m\u001b[0m\u001b[0m\n\u001b[0;32m--> 435\u001b[0;31m         \u001b[0mdata\u001b[0m \u001b[0;34m=\u001b[0m \u001b[0mparser\u001b[0m\u001b[0;34m.\u001b[0m\u001b[0mread\u001b[0m\u001b[0;34m(\u001b[0m\u001b[0mnrows\u001b[0m\u001b[0;34m)\u001b[0m\u001b[0;34m\u001b[0m\u001b[0;34m\u001b[0m\u001b[0m\n\u001b[0m\u001b[1;32m    436\u001b[0m     \u001b[0;32mfinally\u001b[0m\u001b[0;34m:\u001b[0m\u001b[0;34m\u001b[0m\u001b[0;34m\u001b[0m\u001b[0m\n\u001b[1;32m    437\u001b[0m         \u001b[0mparser\u001b[0m\u001b[0;34m.\u001b[0m\u001b[0mclose\u001b[0m\u001b[0;34m(\u001b[0m\u001b[0;34m)\u001b[0m\u001b[0;34m\u001b[0m\u001b[0;34m\u001b[0m\u001b[0m\n",
            "\u001b[0;32m/usr/local/lib/python3.6/dist-packages/pandas/io/parsers.py\u001b[0m in \u001b[0;36mread\u001b[0;34m(self, nrows)\u001b[0m\n\u001b[1;32m   1137\u001b[0m     \u001b[0;32mdef\u001b[0m \u001b[0mread\u001b[0m\u001b[0;34m(\u001b[0m\u001b[0mself\u001b[0m\u001b[0;34m,\u001b[0m \u001b[0mnrows\u001b[0m\u001b[0;34m=\u001b[0m\u001b[0;32mNone\u001b[0m\u001b[0;34m)\u001b[0m\u001b[0;34m:\u001b[0m\u001b[0;34m\u001b[0m\u001b[0;34m\u001b[0m\u001b[0m\n\u001b[1;32m   1138\u001b[0m         \u001b[0mnrows\u001b[0m \u001b[0;34m=\u001b[0m \u001b[0m_validate_integer\u001b[0m\u001b[0;34m(\u001b[0m\u001b[0;34m'nrows'\u001b[0m\u001b[0;34m,\u001b[0m \u001b[0mnrows\u001b[0m\u001b[0;34m)\u001b[0m\u001b[0;34m\u001b[0m\u001b[0;34m\u001b[0m\u001b[0m\n\u001b[0;32m-> 1139\u001b[0;31m         \u001b[0mret\u001b[0m \u001b[0;34m=\u001b[0m \u001b[0mself\u001b[0m\u001b[0;34m.\u001b[0m\u001b[0m_engine\u001b[0m\u001b[0;34m.\u001b[0m\u001b[0mread\u001b[0m\u001b[0;34m(\u001b[0m\u001b[0mnrows\u001b[0m\u001b[0;34m)\u001b[0m\u001b[0;34m\u001b[0m\u001b[0;34m\u001b[0m\u001b[0m\n\u001b[0m\u001b[1;32m   1140\u001b[0m \u001b[0;34m\u001b[0m\u001b[0m\n\u001b[1;32m   1141\u001b[0m         \u001b[0;31m# May alter columns / col_dict\u001b[0m\u001b[0;34m\u001b[0m\u001b[0;34m\u001b[0m\u001b[0;34m\u001b[0m\u001b[0m\n",
            "\u001b[0;32m/usr/local/lib/python3.6/dist-packages/pandas/io/parsers.py\u001b[0m in \u001b[0;36mread\u001b[0;34m(self, nrows)\u001b[0m\n\u001b[1;32m   1993\u001b[0m     \u001b[0;32mdef\u001b[0m \u001b[0mread\u001b[0m\u001b[0;34m(\u001b[0m\u001b[0mself\u001b[0m\u001b[0;34m,\u001b[0m \u001b[0mnrows\u001b[0m\u001b[0;34m=\u001b[0m\u001b[0;32mNone\u001b[0m\u001b[0;34m)\u001b[0m\u001b[0;34m:\u001b[0m\u001b[0;34m\u001b[0m\u001b[0;34m\u001b[0m\u001b[0m\n\u001b[1;32m   1994\u001b[0m         \u001b[0;32mtry\u001b[0m\u001b[0;34m:\u001b[0m\u001b[0;34m\u001b[0m\u001b[0;34m\u001b[0m\u001b[0m\n\u001b[0;32m-> 1995\u001b[0;31m             \u001b[0mdata\u001b[0m \u001b[0;34m=\u001b[0m \u001b[0mself\u001b[0m\u001b[0;34m.\u001b[0m\u001b[0m_reader\u001b[0m\u001b[0;34m.\u001b[0m\u001b[0mread\u001b[0m\u001b[0;34m(\u001b[0m\u001b[0mnrows\u001b[0m\u001b[0;34m)\u001b[0m\u001b[0;34m\u001b[0m\u001b[0;34m\u001b[0m\u001b[0m\n\u001b[0m\u001b[1;32m   1996\u001b[0m         \u001b[0;32mexcept\u001b[0m \u001b[0mStopIteration\u001b[0m\u001b[0;34m:\u001b[0m\u001b[0;34m\u001b[0m\u001b[0;34m\u001b[0m\u001b[0m\n\u001b[1;32m   1997\u001b[0m             \u001b[0;32mif\u001b[0m \u001b[0mself\u001b[0m\u001b[0;34m.\u001b[0m\u001b[0m_first_chunk\u001b[0m\u001b[0;34m:\u001b[0m\u001b[0;34m\u001b[0m\u001b[0;34m\u001b[0m\u001b[0m\n",
            "\u001b[0;32mpandas/_libs/parsers.pyx\u001b[0m in \u001b[0;36mpandas._libs.parsers.TextReader.read\u001b[0;34m()\u001b[0m\n",
            "\u001b[0;32mpandas/_libs/parsers.pyx\u001b[0m in \u001b[0;36mpandas._libs.parsers.TextReader._read_low_memory\u001b[0;34m()\u001b[0m\n",
            "\u001b[0;32mpandas/_libs/parsers.pyx\u001b[0m in \u001b[0;36mpandas._libs.parsers.TextReader._read_rows\u001b[0;34m()\u001b[0m\n",
            "\u001b[0;32mpandas/_libs/parsers.pyx\u001b[0m in \u001b[0;36mpandas._libs.parsers.TextReader._tokenize_rows\u001b[0;34m()\u001b[0m\n",
            "\u001b[0;32mpandas/_libs/parsers.pyx\u001b[0m in \u001b[0;36mpandas._libs.parsers.raise_parser_error\u001b[0;34m()\u001b[0m\n",
            "\u001b[0;32m/usr/lib/python3.6/bz2.py\u001b[0m in \u001b[0;36mread\u001b[0;34m(self, size)\u001b[0m\n\u001b[1;32m    180\u001b[0m         \u001b[0;32mwith\u001b[0m \u001b[0mself\u001b[0m\u001b[0;34m.\u001b[0m\u001b[0m_lock\u001b[0m\u001b[0;34m:\u001b[0m\u001b[0;34m\u001b[0m\u001b[0;34m\u001b[0m\u001b[0m\n\u001b[1;32m    181\u001b[0m             \u001b[0mself\u001b[0m\u001b[0;34m.\u001b[0m\u001b[0m_check_can_read\u001b[0m\u001b[0;34m(\u001b[0m\u001b[0;34m)\u001b[0m\u001b[0;34m\u001b[0m\u001b[0;34m\u001b[0m\u001b[0m\n\u001b[0;32m--> 182\u001b[0;31m             \u001b[0;32mreturn\u001b[0m \u001b[0mself\u001b[0m\u001b[0;34m.\u001b[0m\u001b[0m_buffer\u001b[0m\u001b[0;34m.\u001b[0m\u001b[0mread\u001b[0m\u001b[0;34m(\u001b[0m\u001b[0msize\u001b[0m\u001b[0;34m)\u001b[0m\u001b[0;34m\u001b[0m\u001b[0;34m\u001b[0m\u001b[0m\n\u001b[0m\u001b[1;32m    183\u001b[0m \u001b[0;34m\u001b[0m\u001b[0m\n\u001b[1;32m    184\u001b[0m     \u001b[0;32mdef\u001b[0m \u001b[0mread1\u001b[0m\u001b[0;34m(\u001b[0m\u001b[0mself\u001b[0m\u001b[0;34m,\u001b[0m \u001b[0msize\u001b[0m\u001b[0;34m=\u001b[0m\u001b[0;34m-\u001b[0m\u001b[0;36m1\u001b[0m\u001b[0;34m)\u001b[0m\u001b[0;34m:\u001b[0m\u001b[0;34m\u001b[0m\u001b[0;34m\u001b[0m\u001b[0m\n",
            "\u001b[0;32m/usr/lib/python3.6/_compression.py\u001b[0m in \u001b[0;36mreadinto\u001b[0;34m(self, b)\u001b[0m\n\u001b[1;32m     66\u001b[0m     \u001b[0;32mdef\u001b[0m \u001b[0mreadinto\u001b[0m\u001b[0;34m(\u001b[0m\u001b[0mself\u001b[0m\u001b[0;34m,\u001b[0m \u001b[0mb\u001b[0m\u001b[0;34m)\u001b[0m\u001b[0;34m:\u001b[0m\u001b[0;34m\u001b[0m\u001b[0;34m\u001b[0m\u001b[0m\n\u001b[1;32m     67\u001b[0m         \u001b[0;32mwith\u001b[0m \u001b[0mmemoryview\u001b[0m\u001b[0;34m(\u001b[0m\u001b[0mb\u001b[0m\u001b[0;34m)\u001b[0m \u001b[0;32mas\u001b[0m \u001b[0mview\u001b[0m\u001b[0;34m,\u001b[0m \u001b[0mview\u001b[0m\u001b[0;34m.\u001b[0m\u001b[0mcast\u001b[0m\u001b[0;34m(\u001b[0m\u001b[0;34m\"B\"\u001b[0m\u001b[0;34m)\u001b[0m \u001b[0;32mas\u001b[0m \u001b[0mbyte_view\u001b[0m\u001b[0;34m:\u001b[0m\u001b[0;34m\u001b[0m\u001b[0;34m\u001b[0m\u001b[0m\n\u001b[0;32m---> 68\u001b[0;31m             \u001b[0mdata\u001b[0m \u001b[0;34m=\u001b[0m \u001b[0mself\u001b[0m\u001b[0;34m.\u001b[0m\u001b[0mread\u001b[0m\u001b[0;34m(\u001b[0m\u001b[0mlen\u001b[0m\u001b[0;34m(\u001b[0m\u001b[0mbyte_view\u001b[0m\u001b[0;34m)\u001b[0m\u001b[0;34m)\u001b[0m\u001b[0;34m\u001b[0m\u001b[0;34m\u001b[0m\u001b[0m\n\u001b[0m\u001b[1;32m     69\u001b[0m             \u001b[0mbyte_view\u001b[0m\u001b[0;34m[\u001b[0m\u001b[0;34m:\u001b[0m\u001b[0mlen\u001b[0m\u001b[0;34m(\u001b[0m\u001b[0mdata\u001b[0m\u001b[0;34m)\u001b[0m\u001b[0;34m]\u001b[0m \u001b[0;34m=\u001b[0m \u001b[0mdata\u001b[0m\u001b[0;34m\u001b[0m\u001b[0;34m\u001b[0m\u001b[0m\n\u001b[1;32m     70\u001b[0m         \u001b[0;32mreturn\u001b[0m \u001b[0mlen\u001b[0m\u001b[0;34m(\u001b[0m\u001b[0mdata\u001b[0m\u001b[0;34m)\u001b[0m\u001b[0;34m\u001b[0m\u001b[0;34m\u001b[0m\u001b[0m\n",
            "\u001b[0;32m/usr/lib/python3.6/_compression.py\u001b[0m in \u001b[0;36mread\u001b[0;34m(self, size)\u001b[0m\n\u001b[1;32m    101\u001b[0m                 \u001b[0;32melse\u001b[0m\u001b[0;34m:\u001b[0m\u001b[0;34m\u001b[0m\u001b[0;34m\u001b[0m\u001b[0m\n\u001b[1;32m    102\u001b[0m                     \u001b[0mrawblock\u001b[0m \u001b[0;34m=\u001b[0m \u001b[0;34mb\"\"\u001b[0m\u001b[0;34m\u001b[0m\u001b[0;34m\u001b[0m\u001b[0m\n\u001b[0;32m--> 103\u001b[0;31m                 \u001b[0mdata\u001b[0m \u001b[0;34m=\u001b[0m \u001b[0mself\u001b[0m\u001b[0;34m.\u001b[0m\u001b[0m_decompressor\u001b[0m\u001b[0;34m.\u001b[0m\u001b[0mdecompress\u001b[0m\u001b[0;34m(\u001b[0m\u001b[0mrawblock\u001b[0m\u001b[0;34m,\u001b[0m \u001b[0msize\u001b[0m\u001b[0;34m)\u001b[0m\u001b[0;34m\u001b[0m\u001b[0;34m\u001b[0m\u001b[0m\n\u001b[0m\u001b[1;32m    104\u001b[0m             \u001b[0;32mif\u001b[0m \u001b[0mdata\u001b[0m\u001b[0;34m:\u001b[0m\u001b[0;34m\u001b[0m\u001b[0;34m\u001b[0m\u001b[0m\n\u001b[1;32m    105\u001b[0m                 \u001b[0;32mbreak\u001b[0m\u001b[0;34m\u001b[0m\u001b[0;34m\u001b[0m\u001b[0m\n",
            "\u001b[0;31mKeyboardInterrupt\u001b[0m: "
          ]
        }
      ]
    },
    {
      "cell_type": "code",
      "metadata": {
        "id": "hG8BP84GeBPa",
        "colab_type": "code",
        "outputId": "d081dd68-d974-40a2-a38c-d189845b94c4",
        "colab": {
          "base_uri": "https://localhost:8080/",
          "height": 271
        }
      },
      "source": [
        "dblp.head()"
      ],
      "execution_count": 0,
      "outputs": [
        {
          "output_type": "execute_result",
          "data": {
            "text/html": [
              "<div>\n",
              "<style scoped>\n",
              "    .dataframe tbody tr th:only-of-type {\n",
              "        vertical-align: middle;\n",
              "    }\n",
              "\n",
              "    .dataframe tbody tr th {\n",
              "        vertical-align: top;\n",
              "    }\n",
              "\n",
              "    .dataframe thead th {\n",
              "        text-align: right;\n",
              "    }\n",
              "</style>\n",
              "<table border=\"1\" class=\"dataframe\">\n",
              "  <thead>\n",
              "    <tr style=\"text-align: right;\">\n",
              "      <th></th>\n",
              "      <th>id</th>\n",
              "      <th>authors</th>\n",
              "      <th>year</th>\n",
              "      <th>title</th>\n",
              "    </tr>\n",
              "  </thead>\n",
              "  <tbody>\n",
              "    <tr>\n",
              "      <th>0</th>\n",
              "      <td>tr/meltdown/s18</td>\n",
              "      <td>['Paul Kocher', 'Daniel Genkin', 'Daniel Gruss...</td>\n",
              "      <td>2018.0</td>\n",
              "      <td>Spectre Attacks: Exploiting Speculative Execut...</td>\n",
              "    </tr>\n",
              "    <tr>\n",
              "      <th>1</th>\n",
              "      <td>tr/meltdown/m18</td>\n",
              "      <td>['Moritz Lipp', 'Michael Schwarz 0001', 'Danie...</td>\n",
              "      <td>2018.0</td>\n",
              "      <td>Meltdown</td>\n",
              "    </tr>\n",
              "    <tr>\n",
              "      <th>2</th>\n",
              "      <td>tr/acm/CS2013</td>\n",
              "      <td>[]</td>\n",
              "      <td>2013.0</td>\n",
              "      <td>Computer Science Curricula 2013</td>\n",
              "    </tr>\n",
              "    <tr>\n",
              "      <th>3</th>\n",
              "      <td>tr/gte/TR-0263-08-94-165</td>\n",
              "      <td>['Frank Manola']</td>\n",
              "      <td>1994.0</td>\n",
              "      <td>An Evaluation of Object-Oriented DBMS Developm...</td>\n",
              "    </tr>\n",
              "    <tr>\n",
              "      <th>4</th>\n",
              "      <td>tr/gte/TR-0222-10-92-165</td>\n",
              "      <td>['Michael L. Brodie', 'Michael Stonebraker']</td>\n",
              "      <td>1993.0</td>\n",
              "      <td>DARWIN: On the Incremental Migration of Legacy...</td>\n",
              "    </tr>\n",
              "  </tbody>\n",
              "</table>\n",
              "</div>"
            ],
            "text/plain": [
              "                         id  ...                                              title\n",
              "0           tr/meltdown/s18  ...  Spectre Attacks: Exploiting Speculative Execut...\n",
              "1           tr/meltdown/m18  ...                                           Meltdown\n",
              "2             tr/acm/CS2013  ...                    Computer Science Curricula 2013\n",
              "3  tr/gte/TR-0263-08-94-165  ...  An Evaluation of Object-Oriented DBMS Developm...\n",
              "4  tr/gte/TR-0222-10-92-165  ...  DARWIN: On the Incremental Migration of Legacy...\n",
              "\n",
              "[5 rows x 4 columns]"
            ]
          },
          "metadata": {
            "tags": []
          },
          "execution_count": 156
        }
      ]
    },
    {
      "cell_type": "code",
      "metadata": {
        "id": "je5gX5TceBPh",
        "colab_type": "code",
        "colab": {}
      },
      "source": [
        "dblp.columns = ['paper id', 'paper authors', 'paper year', 'paper title']"
      ],
      "execution_count": 0,
      "outputs": []
    },
    {
      "cell_type": "code",
      "metadata": {
        "id": "ZHwPPWlAeBPo",
        "colab_type": "code",
        "colab": {}
      },
      "source": [
        "dblp['paper year'].replace(['\\?','\\<.{1,3}\\>'], '', regex = True, inplace=True)\n",
        "\n",
        "def complete_date(x):       \n",
        "    if len(x) > 0 and x[0] == \"'\":\n",
        "        x = int(x[1:])\n",
        "        if x > 20:\n",
        "            return str(1900 + x)\n",
        "        else:\n",
        "            return str(2000 + x)\n",
        "\n",
        "    else:\n",
        "        return x.split(\".\")[0]\n",
        "    \n",
        "dblp['paper year'] = dblp['paper year'].apply(lambda x: complete_date(x))"
      ],
      "execution_count": 0,
      "outputs": []
    },
    {
      "cell_type": "code",
      "metadata": {
        "id": "x8msYvaFeBPs",
        "colab_type": "code",
        "colab": {}
      },
      "source": [
        "# dblp['paper year'] = pd.to_numeric(dblp['paper year']).fillna(0).astype(int)\n",
        "# dblp = dblp[dblp['paper year']!=0]\n",
        "# dblp = dblp[dblp['paper authors']!=\"[]\"]"
      ],
      "execution_count": 0,
      "outputs": []
    },
    {
      "cell_type": "code",
      "metadata": {
        "id": "Khz0scNXeBP1",
        "colab_type": "code",
        "colab": {}
      },
      "source": [
        "conf_file = open('data/list_of_ai_conferences.txt', 'r')\n",
        "conf_list = [line.replace('\\n','') for line in conf_file.readlines()]"
      ],
      "execution_count": 0,
      "outputs": []
    },
    {
      "cell_type": "code",
      "metadata": {
        "id": "pdFvmhsheBP7",
        "colab_type": "code",
        "colab": {}
      },
      "source": [
        "dblp_papers = dblp[dblp['paper id'].str.contains('conf/')]"
      ],
      "execution_count": 0,
      "outputs": []
    },
    {
      "cell_type": "code",
      "metadata": {
        "id": "0-YJdQ0ieBQB",
        "colab_type": "code",
        "outputId": "6805b88c-ee38-4ec3-9cd0-e0af8c217c4b",
        "colab": {
          "base_uri": "https://localhost:8080/",
          "height": 141
        }
      },
      "source": [
        "dblp_papers['conference'] = dblp_papers['paper id'].apply(lambda x:x.split('/')[1])"
      ],
      "execution_count": 0,
      "outputs": [
        {
          "output_type": "stream",
          "text": [
            "/usr/local/lib/python3.6/dist-packages/ipykernel_launcher.py:1: SettingWithCopyWarning: \n",
            "A value is trying to be set on a copy of a slice from a DataFrame.\n",
            "Try using .loc[row_indexer,col_indexer] = value instead\n",
            "\n",
            "See the caveats in the documentation: http://pandas.pydata.org/pandas-docs/stable/indexing.html#indexing-view-versus-copy\n",
            "  \"\"\"Entry point for launching an IPython kernel.\n"
          ],
          "name": "stderr"
        }
      ]
    },
    {
      "cell_type": "code",
      "metadata": {
        "id": "OrK9a7bqeBQI",
        "colab_type": "code",
        "outputId": "750bb572-7629-478b-940f-401414424e53",
        "colab": {
          "base_uri": "https://localhost:8080/",
          "height": 306
        }
      },
      "source": [
        "dblp_papers = dblp_papers[dblp_papers['conference'].isin(conf_list)]\n",
        "dblp_papers.head()"
      ],
      "execution_count": 0,
      "outputs": [
        {
          "output_type": "execute_result",
          "data": {
            "text/html": [
              "<div>\n",
              "<style scoped>\n",
              "    .dataframe tbody tr th:only-of-type {\n",
              "        vertical-align: middle;\n",
              "    }\n",
              "\n",
              "    .dataframe tbody tr th {\n",
              "        vertical-align: top;\n",
              "    }\n",
              "\n",
              "    .dataframe thead th {\n",
              "        text-align: right;\n",
              "    }\n",
              "</style>\n",
              "<table border=\"1\" class=\"dataframe\">\n",
              "  <thead>\n",
              "    <tr style=\"text-align: right;\">\n",
              "      <th></th>\n",
              "      <th>paper id</th>\n",
              "      <th>paper authors</th>\n",
              "      <th>paper year</th>\n",
              "      <th>paper title</th>\n",
              "      <th>conference</th>\n",
              "    </tr>\n",
              "  </thead>\n",
              "  <tbody>\n",
              "    <tr>\n",
              "      <th>2049312</th>\n",
              "      <td>conf/iccv/KunoOO90</td>\n",
              "      <td>['Yoshinori Kuno', 'Yasukazu Okamoto', 'Satosh...</td>\n",
              "      <td>1990</td>\n",
              "      <td>Object recognition using a feature search stra...</td>\n",
              "      <td>iccv</td>\n",
              "    </tr>\n",
              "    <tr>\n",
              "      <th>2049313</th>\n",
              "      <td>conf/iccv/VedulaBRCK99</td>\n",
              "      <td>['Sundar Vedula', 'Simon Baker', 'Peter Rander...</td>\n",
              "      <td>1999</td>\n",
              "      <td>Three-Dimensional Scene Flow.</td>\n",
              "      <td>iccv</td>\n",
              "    </tr>\n",
              "    <tr>\n",
              "      <th>2049314</th>\n",
              "      <td>conf/iccv/MeminP99</td>\n",
              "      <td>['Étienne Mémin', 'Patrick Pérez']</td>\n",
              "      <td>1999</td>\n",
              "      <td>Fluid Motion Recovery by Coupling Dense and Pa...</td>\n",
              "      <td>iccv</td>\n",
              "    </tr>\n",
              "    <tr>\n",
              "      <th>2049315</th>\n",
              "      <td>conf/iccv/DickinsonPR90</td>\n",
              "      <td>['Sven J. Dickinson', 'Alex Pentland', 'Azriel...</td>\n",
              "      <td>1990</td>\n",
              "      <td>Qualitative 3-D shape reconstruction using dis...</td>\n",
              "      <td>iccv</td>\n",
              "    </tr>\n",
              "    <tr>\n",
              "      <th>2049316</th>\n",
              "      <td>conf/iccv/SinghYL17</td>\n",
              "      <td>['Avi Singh', 'Larry Yang', 'Sergey Levine']</td>\n",
              "      <td>2017</td>\n",
              "      <td>GPLAC: Generalizing Vision-Based Robotic Skill...</td>\n",
              "      <td>iccv</td>\n",
              "    </tr>\n",
              "  </tbody>\n",
              "</table>\n",
              "</div>"
            ],
            "text/plain": [
              "                        paper id  ... conference\n",
              "2049312       conf/iccv/KunoOO90  ...       iccv\n",
              "2049313   conf/iccv/VedulaBRCK99  ...       iccv\n",
              "2049314       conf/iccv/MeminP99  ...       iccv\n",
              "2049315  conf/iccv/DickinsonPR90  ...       iccv\n",
              "2049316      conf/iccv/SinghYL17  ...       iccv\n",
              "\n",
              "[5 rows x 5 columns]"
            ]
          },
          "metadata": {
            "tags": []
          },
          "execution_count": 163
        }
      ]
    },
    {
      "cell_type": "code",
      "metadata": {
        "id": "t_hCli8deBQO",
        "colab_type": "code",
        "outputId": "a3cad902-5410-4f72-f2dc-c6acaabc495d",
        "colab": {
          "base_uri": "https://localhost:8080/",
          "height": 399
        }
      },
      "source": [
        "print(F'all \\t {dblp_papers.shape[0]}')\n",
        "dblp_papers['conference'].value_counts()"
      ],
      "execution_count": 0,
      "outputs": [
        {
          "output_type": "stream",
          "text": [
            "all \t 102003\n"
          ],
          "name": "stdout"
        },
        {
          "output_type": "execute_result",
          "data": {
            "text/plain": [
              "icra      21585\n",
              "cvpr      12853\n",
              "aaai      10796\n",
              "ijcai      9669\n",
              "nips       8445\n",
              "acl        6330\n",
              "icml       5017\n",
              "iconip     4985\n",
              "iccv       4179\n",
              "naacl      3310\n",
              "emnlp      3299\n",
              "icann      3134\n",
              "accv       2390\n",
              "fgr        1383\n",
              "pricai     1372\n",
              "iccbr       863\n",
              "ida         712\n",
              "ilp         679\n",
              "ksem        635\n",
              "aamas       367\n",
              "Name: conference, dtype: int64"
            ]
          },
          "metadata": {
            "tags": []
          },
          "execution_count": 164
        }
      ]
    },
    {
      "cell_type": "markdown",
      "metadata": {
        "colab_type": "text",
        "id": "mnE6N9zXl-yz"
      },
      "source": [
        "### A2. An author-centric look\n",
        "The dataframe you created above was a paper-centric one. Now, we want you to create a new dataframe centered around authors. Do this by expanding the author names in the lists in the 2nd column into separate rows. That is, if a paper has 3 authors, turn that row into 3 rows, each of which only contains one of the author names (along with the rest of the paper information, i.e., title, conference and year). Keep both dataframes, we are going to need both of them.    \n",
        "**Report the number of unique authors.**"
      ]
    },
    {
      "cell_type": "code",
      "metadata": {
        "id": "XWA1bkjAeBQU",
        "colab_type": "code",
        "colab": {}
      },
      "source": [
        "# Credits. https://gist.github.com/jlln/338b4b0b55bd6984f883\\n\",\n",
        "def splitDataFrameList(df,target_column,separator):\n",
        "    ''' df = dataframe to split\n",
        "    target_column = the column containing the values to split\n",
        "    separator = the symbol used to perform the split\n",
        "    returns: a dataframe with each entry for the target column separated, with each element moved into a new row.\n",
        "    The values in the other columns are duplicated across the newly divided rows.'''\n",
        "    \n",
        "    def splitListToRows(row,row_accumulator,target_column,separator):\n",
        "        split_row = row[target_column].split(separator)\n",
        "        for s in split_row:\n",
        "            new_row = row.to_dict()\n",
        "            new_row[target_column] = s\n",
        "            row_accumulator.append(new_row)\n",
        "            \n",
        "    new_rows = []\n",
        "    df.apply(splitListToRows,axis=1,args = (new_rows,target_column,separator))\n",
        "    new_df = pd.DataFrame(new_rows)\n",
        "    return new_df"
      ],
      "execution_count": 0,
      "outputs": []
    },
    {
      "cell_type": "code",
      "metadata": {
        "id": "nXZ9Lx2EeBQZ",
        "colab_type": "code",
        "colab": {}
      },
      "source": [
        "dblp_authors = splitDataFrameList(dblp_papers,'paper authors',',')"
      ],
      "execution_count": 0,
      "outputs": []
    },
    {
      "cell_type": "code",
      "metadata": {
        "id": "UIe0xl8aeBQd",
        "colab_type": "code",
        "outputId": "c50826b0-d306-4a97-b1df-b514329fc903",
        "colab": {
          "base_uri": "https://localhost:8080/",
          "height": 271
        }
      },
      "source": [
        "dblp_authors['paper authors'].replace([\"\\[\",\"\\'\",\"\\]\"],\"\",inplace=True,regex=True)\n",
        "dblp_authors = dblp_authors[dblp_authors['paper authors'] != \"\"]\n",
        "dblp_authors.head()"
      ],
      "execution_count": 0,
      "outputs": [
        {
          "output_type": "execute_result",
          "data": {
            "text/html": [
              "<div>\n",
              "<style scoped>\n",
              "    .dataframe tbody tr th:only-of-type {\n",
              "        vertical-align: middle;\n",
              "    }\n",
              "\n",
              "    .dataframe tbody tr th {\n",
              "        vertical-align: top;\n",
              "    }\n",
              "\n",
              "    .dataframe thead th {\n",
              "        text-align: right;\n",
              "    }\n",
              "</style>\n",
              "<table border=\"1\" class=\"dataframe\">\n",
              "  <thead>\n",
              "    <tr style=\"text-align: right;\">\n",
              "      <th></th>\n",
              "      <th>conference</th>\n",
              "      <th>paper authors</th>\n",
              "      <th>paper id</th>\n",
              "      <th>paper title</th>\n",
              "      <th>paper year</th>\n",
              "    </tr>\n",
              "  </thead>\n",
              "  <tbody>\n",
              "    <tr>\n",
              "      <th>0</th>\n",
              "      <td>iccv</td>\n",
              "      <td>Yoshinori Kuno</td>\n",
              "      <td>conf/iccv/KunoOO90</td>\n",
              "      <td>Object recognition using a feature search stra...</td>\n",
              "      <td>1990</td>\n",
              "    </tr>\n",
              "    <tr>\n",
              "      <th>1</th>\n",
              "      <td>iccv</td>\n",
              "      <td>Yasukazu Okamoto</td>\n",
              "      <td>conf/iccv/KunoOO90</td>\n",
              "      <td>Object recognition using a feature search stra...</td>\n",
              "      <td>1990</td>\n",
              "    </tr>\n",
              "    <tr>\n",
              "      <th>2</th>\n",
              "      <td>iccv</td>\n",
              "      <td>Satoshi Okada</td>\n",
              "      <td>conf/iccv/KunoOO90</td>\n",
              "      <td>Object recognition using a feature search stra...</td>\n",
              "      <td>1990</td>\n",
              "    </tr>\n",
              "    <tr>\n",
              "      <th>3</th>\n",
              "      <td>iccv</td>\n",
              "      <td>Sundar Vedula</td>\n",
              "      <td>conf/iccv/VedulaBRCK99</td>\n",
              "      <td>Three-Dimensional Scene Flow.</td>\n",
              "      <td>1999</td>\n",
              "    </tr>\n",
              "    <tr>\n",
              "      <th>4</th>\n",
              "      <td>iccv</td>\n",
              "      <td>Simon Baker</td>\n",
              "      <td>conf/iccv/VedulaBRCK99</td>\n",
              "      <td>Three-Dimensional Scene Flow.</td>\n",
              "      <td>1999</td>\n",
              "    </tr>\n",
              "  </tbody>\n",
              "</table>\n",
              "</div>"
            ],
            "text/plain": [
              "  conference  ... paper year\n",
              "0       iccv  ...       1990\n",
              "1       iccv  ...       1990\n",
              "2       iccv  ...       1990\n",
              "3       iccv  ...       1999\n",
              "4       iccv  ...       1999\n",
              "\n",
              "[5 rows x 5 columns]"
            ]
          },
          "metadata": {
            "tags": []
          },
          "execution_count": 167
        }
      ]
    },
    {
      "cell_type": "code",
      "metadata": {
        "id": "dYyOuAadeBQh",
        "colab_type": "code",
        "outputId": "e806c176-aa2b-41e4-d038-a3f6e0b384f8",
        "colab": {
          "base_uri": "https://localhost:8080/",
          "height": 35
        }
      },
      "source": [
        "print(F\"there is {dblp_authors['paper authors'].unique().shape[0]} unique authors\")"
      ],
      "execution_count": 0,
      "outputs": [
        {
          "output_type": "stream",
          "text": [
            "there is 129558 unique authors\n"
          ],
          "name": "stdout"
        }
      ]
    },
    {
      "cell_type": "markdown",
      "metadata": {
        "colab_type": "text",
        "id": "8ZiuGiDsl60f"
      },
      "source": [
        "### A3. Is your data analysis-friendly?\n",
        "\n",
        "Using an appropriate view of your data (paper-centric or author-centric), solve the following tasks:\n",
        "\n",
        "1. Plot the number of papers per author and analyze it. Do you observe any outliers? Can you identify the source of the problem? Please elaborate!   \n",
        "_Hint: To find out where the problem comes from, try performing an analysis at the conference or year level._   \n",
        "Make sure you remove this inconsistency from your dataframe before moving to the next step, and also create a new plot of the number of papers per author after fixing the problem.   \n",
        "\n",
        "2. Plot the number of papers per year. Do you observe any inconsistency in the output? Real-world data is usually messy, with typos, erroneous entries, and sometimes issues that make even loading the data problematic. Fix any errors that you encounter along the way, find ways to clean the attribute `year`, and redo the plot of the number of papers per year.   \n",
        "\n",
        "3. Machine learning (ML) has been one of the hottest topics within the broader area of AI recently, so let’s see if this is reflected in the number of ML publications. In particular, let’s focus on the two major ML conferences, NIPS and ICML: make a new dataframe with only NIPS and ICML papers (let’s call these the “ML papers”), plot the number of ML papers over time, and analyze and discuss the plot. Do you observe anything odd in this plot? What causes these problems?   \n",
        "_Hint: Try to perform an analysis at the conference or year level._   \n",
        "\n",
        "4. By now, you may have noticed that some conferences are not fully represented in the DBLP dataset. Complete the paper-centric dataframe by scraping the full NIPS data from the online proceedings at https://papers.nips.cc/ (maintain the same schema used in your previous dataframes, but fill in missing values). After this step, remove any remaining papers that have missing values. Redo the plots of steps A3.2 and A3.3 after fixing the issue.   \n",
        "\n",
        "_Note: In order to avoid re-running the cleaning part of the notebook every time, you could save the results at this point as a pickle file! Also, propagating your cleaning to both dataframes might prove useful later on._"
      ]
    },
    {
      "cell_type": "markdown",
      "metadata": {
        "id": "Bi3O5cOTeBQo",
        "colab_type": "text"
      },
      "source": [
        "***A3.1***"
      ]
    },
    {
      "cell_type": "code",
      "metadata": {
        "colab_type": "code",
        "id": "co_yXyk2TzHo",
        "scrolled": true,
        "outputId": "83a1409a-4bd2-434e-fd74-6673c2dc5515",
        "colab": {
          "base_uri": "https://localhost:8080/",
          "height": 381
        }
      },
      "source": [
        "#plot the 20th authors with the most of publications\n",
        "\n",
        "dblp_authors['paper authors'].value_counts()[:20].plot(kind='bar')\n",
        "plt.show()\n"
      ],
      "execution_count": 0,
      "outputs": [
        {
          "output_type": "display_data",
          "data": {
            "image/png": "[encoded data removed]",
            "text/plain": [
              "<Figure size 432x288 with 1 Axes>"
            ]
          },
          "metadata": {
            "tags": []
          }
        }
      ]
    },
    {
      "cell_type": "markdown",
      "metadata": {
        "id": "LUF40pj3eBQw",
        "colab_type": "text"
      },
      "source": [
        "We see that the 2 most represented authors have more than the double of papers than the third. This is strange..."
      ]
    },
    {
      "cell_type": "code",
      "metadata": {
        "id": "QIrm86pneBQy",
        "colab_type": "code",
        "outputId": "c66180a8-63c7-461f-febf-b6f976d73e9a",
        "colab": {
          "base_uri": "https://localhost:8080/",
          "height": 87
        }
      },
      "source": [
        "# conference level\n",
        "dblp_authors[dblp_authors['paper authors'].str.contains('Sheila A. McIlraith')]['conference'].value_counts()"
      ],
      "execution_count": 0,
      "outputs": [
        {
          "output_type": "execute_result",
          "data": {
            "text/plain": [
              "aaai     904\n",
              "ijcai     13\n",
              "icml       1\n",
              "Name: conference, dtype: int64"
            ]
          },
          "metadata": {
            "tags": []
          },
          "execution_count": 32
        }
      ]
    },
    {
      "cell_type": "code",
      "metadata": {
        "id": "sXs-Sib3eBQ2",
        "colab_type": "code",
        "outputId": "7c9a035a-1cf1-4343-871a-d00d4f9df4bc",
        "colab": {
          "base_uri": "https://localhost:8080/",
          "height": 312
        }
      },
      "source": [
        "# year level\n",
        "dblp_authors[dblp_authors['paper authors'].str.contains('Sheila A. McIlraith')]['paper year'].value_counts()"
      ],
      "execution_count": 0,
      "outputs": [
        {
          "output_type": "execute_result",
          "data": {
            "text/plain": [
              "2018    893\n",
              "2017      4\n",
              "2016      4\n",
              "2013      2\n",
              "2014      2\n",
              "2007      2\n",
              "2011      2\n",
              "2010      1\n",
              "2000      1\n",
              "2001      1\n",
              "2015      1\n",
              "2009      1\n",
              "2003      1\n",
              "1997      1\n",
              "2006      1\n",
              "2008      1\n",
              "Name: paper year, dtype: int64"
            ]
          },
          "metadata": {
            "tags": []
          },
          "execution_count": 33
        }
      ]
    },
    {
      "cell_type": "code",
      "metadata": {
        "id": "BeSxbFSfeBQ6",
        "colab_type": "code",
        "outputId": "aa2785fe-d25a-43b6-fc70-a509007ad42e",
        "colab": {
          "base_uri": "https://localhost:8080/",
          "height": 621
        }
      },
      "source": [
        "IFrame('https://www.cs.toronto.edu/~sheila/', width=800, height=600)"
      ],
      "execution_count": 0,
      "outputs": [
        {
          "output_type": "execute_result",
          "data": {
            "text/html": [
              "\n",
              "        <iframe\n",
              "            width=\"800\"\n",
              "            height=\"600\"\n",
              "            src=\"https://www.cs.toronto.edu/~sheila/\"\n",
              "            frameborder=\"0\"\n",
              "            allowfullscreen\n",
              "        ></iframe>\n",
              "        "
            ],
            "text/plain": [
              "<IPython.lib.display.IFrame at 0x7fc7cd7c24e0>"
            ]
          },
          "metadata": {
            "tags": []
          },
          "execution_count": 34
        }
      ]
    },
    {
      "cell_type": "code",
      "metadata": {
        "id": "-dRwuW5OeBRB",
        "colab_type": "code",
        "outputId": "f46bcde8-95de-4776-d2a3-3522e0fe0c2f",
        "colab": {
          "base_uri": "https://localhost:8080/",
          "height": 121
        }
      },
      "source": [
        "# conference level\n",
        "dblp_authors[dblp_authors['paper authors'].str.contains('Satinder P. Singh')]['conference'].value_counts()"
      ],
      "execution_count": 0,
      "outputs": [
        {
          "output_type": "execute_result",
          "data": {
            "text/plain": [
              "aaai     682\n",
              "nips      32\n",
              "icml      20\n",
              "ijcai     11\n",
              "aamas      3\n",
              "Name: conference, dtype: int64"
            ]
          },
          "metadata": {
            "tags": []
          },
          "execution_count": 35
        }
      ]
    },
    {
      "cell_type": "code",
      "metadata": {
        "id": "a86xquFMeBRG",
        "colab_type": "code",
        "outputId": "78844f45-dae9-4938-961d-f74692a2f70b",
        "colab": {
          "base_uri": "https://localhost:8080/",
          "height": 537
        }
      },
      "source": [
        "# year level\n",
        "dblp_authors[dblp_authors['paper authors'].str.contains('Satinder P. Singh')]['paper year'].value_counts()"
      ],
      "execution_count": 0,
      "outputs": [
        {
          "output_type": "execute_result",
          "data": {
            "text/plain": [
              "2017    666\n",
              "1998      7\n",
              "2016      6\n",
              "2005      5\n",
              "2012      5\n",
              "2006      5\n",
              "2007      4\n",
              "2000      4\n",
              "2004      4\n",
              "1994      4\n",
              "2014      3\n",
              "1991      3\n",
              "2003      3\n",
              "2015      3\n",
              "2001      3\n",
              "1996      3\n",
              "2009      2\n",
              "1993      2\n",
              "2011      2\n",
              "1999      2\n",
              "2018      2\n",
              "1992      2\n",
              "2008      2\n",
              "2013      1\n",
              "1997      1\n",
              "2002      1\n",
              "1995      1\n",
              "2010      1\n",
              "          1\n",
              "Name: paper year, dtype: int64"
            ]
          },
          "metadata": {
            "tags": []
          },
          "execution_count": 36
        }
      ]
    },
    {
      "cell_type": "code",
      "metadata": {
        "id": "ZC3Rw8AYeBRK",
        "colab_type": "code",
        "outputId": "ac8e0a60-d155-4a50-9b1f-04a72716142a",
        "colab": {
          "base_uri": "https://localhost:8080/",
          "height": 621
        }
      },
      "source": [
        "IFrame('https://mcircc.umich.edu/satinder-singh-phd', width=800, height=600)"
      ],
      "execution_count": 0,
      "outputs": [
        {
          "output_type": "execute_result",
          "data": {
            "text/html": [
              "\n",
              "        <iframe\n",
              "            width=\"800\"\n",
              "            height=\"600\"\n",
              "            src=\"https://mcircc.umich.edu/satinder-singh-phd\"\n",
              "            frameborder=\"0\"\n",
              "            allowfullscreen\n",
              "        ></iframe>\n",
              "        "
            ],
            "text/plain": [
              "<IPython.lib.display.IFrame at 0x7fc7cd7c2208>"
            ]
          },
          "metadata": {
            "tags": []
          },
          "execution_count": 37
        }
      ]
    },
    {
      "cell_type": "markdown",
      "metadata": {
        "id": "AXRbAsMjeBRN",
        "colab_type": "text"
      },
      "source": [
        "Both authors are fellows of the AAAI and they have an oddly big number of publication in this 'conference'. We are going to remove this conference from the data frame, in order to remove the outliers."
      ]
    },
    {
      "cell_type": "code",
      "metadata": {
        "id": "ZqL7E-WMeBRP",
        "colab_type": "code",
        "colab": {}
      },
      "source": [
        "dblp_authors = dblp_authors[dblp_authors['conference'] != \"aaai\"]"
      ],
      "execution_count": 0,
      "outputs": []
    },
    {
      "cell_type": "code",
      "metadata": {
        "id": "Tu1aBieneBRd",
        "colab_type": "code",
        "outputId": "89fe3f22-5824-4f7c-b6dc-cbeb70e0eeac",
        "colab": {
          "base_uri": "https://localhost:8080/",
          "height": 381
        }
      },
      "source": [
        "dblp_authors['paper authors'].value_counts()[:20].plot(kind='bar')\n",
        "plt.show()"
      ],
      "execution_count": 0,
      "outputs": [
        {
          "output_type": "display_data",
          "data": {
            "image/png": "[encoded data removed]",
            "text/plain": [
              "<Figure size 432x288 with 1 Axes>"
            ]
          },
          "metadata": {
            "tags": []
          }
        }
      ]
    },
    {
      "cell_type": "markdown",
      "metadata": {
        "id": "2RNqeUvfeBRh",
        "colab_type": "text"
      },
      "source": [
        "***A3.2***"
      ]
    },
    {
      "cell_type": "markdown",
      "metadata": {
        "id": "2aHjgsijeBRh",
        "colab_type": "text"
      },
      "source": [
        "Cleaning has been made in the first part. Inconsistencies that occured are the following :\n",
        "- not always the same format (complete date, e.g 2014 versus uncomplete date, e.g. '95). We complete the uncomplete date adding 19 for date after 1920 and 20 for date before 2020. As an example, '89 gives 1989 whereas '17 gives 2017.\n",
        "- missing dates. We just dropped these data."
      ]
    },
    {
      "cell_type": "code",
      "metadata": {
        "scrolled": true,
        "id": "6MVjX2QAeBRi",
        "colab_type": "code",
        "outputId": "ea22ba25-79f7-4d3a-a5c9-73b9546f89af",
        "colab": {
          "base_uri": "https://localhost:8080/",
          "height": 339
        }
      },
      "source": [
        "dblp_papers = dblp_papers[dblp_papers['paper year'] != '']\n",
        "plt.figure(figsize=(10,5))\n",
        "dblp_papers['paper year'].value_counts(sort=False).sort_index().plot(kind='bar')\n",
        "plt.show()"
      ],
      "execution_count": 0,
      "outputs": [
        {
          "output_type": "display_data",
          "data": {
            "image/png": "[encoded data removed]",
            "text/plain": [
              "<Figure size 720x360 with 1 Axes>"
            ]
          },
          "metadata": {
            "tags": []
          }
        }
      ]
    },
    {
      "cell_type": "markdown",
      "metadata": {
        "id": "IRBJkuE7eBRn",
        "colab_type": "text"
      },
      "source": [
        "***A3.3***"
      ]
    },
    {
      "cell_type": "code",
      "metadata": {
        "id": "oHaMOEkveBRo",
        "colab_type": "code",
        "outputId": "2d721bdd-6180-4361-9a15-ce9ffa26568c",
        "colab": {
          "base_uri": "https://localhost:8080/",
          "height": 306
        }
      },
      "source": [
        "mlconf = ['icml', 'nips']\n",
        "\n",
        "dblp_ml = dblp_papers[dblp_papers['conference'].isin(mlconf)]\n",
        "dblp_ml.head()"
      ],
      "execution_count": 0,
      "outputs": [
        {
          "output_type": "execute_result",
          "data": {
            "text/html": [
              "<div>\n",
              "<style scoped>\n",
              "    .dataframe tbody tr th:only-of-type {\n",
              "        vertical-align: middle;\n",
              "    }\n",
              "\n",
              "    .dataframe tbody tr th {\n",
              "        vertical-align: top;\n",
              "    }\n",
              "\n",
              "    .dataframe thead th {\n",
              "        text-align: right;\n",
              "    }\n",
              "</style>\n",
              "<table border=\"1\" class=\"dataframe\">\n",
              "  <thead>\n",
              "    <tr style=\"text-align: right;\">\n",
              "      <th></th>\n",
              "      <th>paper id</th>\n",
              "      <th>paper authors</th>\n",
              "      <th>paper year</th>\n",
              "      <th>paper title</th>\n",
              "      <th>conference</th>\n",
              "    </tr>\n",
              "  </thead>\n",
              "  <tbody>\n",
              "    <tr>\n",
              "      <th>3882505</th>\n",
              "      <td>conf/nips/FelzenszwalbO14</td>\n",
              "      <td>['Pedro F. Felzenszwalb', 'John G. Oberlin']</td>\n",
              "      <td>2014</td>\n",
              "      <td>Multiscale Fields of Patterns.</td>\n",
              "      <td>nips</td>\n",
              "    </tr>\n",
              "    <tr>\n",
              "      <th>3882506</th>\n",
              "      <td>conf/nips/Davis88</td>\n",
              "      <td>['Lawrence Davis']</td>\n",
              "      <td>1988</td>\n",
              "      <td>Mapping Classifier Systems Into Neural Networks.</td>\n",
              "      <td>nips</td>\n",
              "    </tr>\n",
              "    <tr>\n",
              "      <th>3882507</th>\n",
              "      <td>conf/nips/Yuille05</td>\n",
              "      <td>['Alan L. Yuille']</td>\n",
              "      <td>2005</td>\n",
              "      <td>Augmented Rescorla-Wagner and Maximum Likeliho...</td>\n",
              "      <td>nips</td>\n",
              "    </tr>\n",
              "    <tr>\n",
              "      <th>3882508</th>\n",
              "      <td>conf/nips/MelRA96</td>\n",
              "      <td>['Bartlett W. Mel', 'Daniel L. Ruderman', 'Kev...</td>\n",
              "      <td>1996</td>\n",
              "      <td>Complex-Cell Responses Derived from Center-Sur...</td>\n",
              "      <td>nips</td>\n",
              "    </tr>\n",
              "    <tr>\n",
              "      <th>3882509</th>\n",
              "      <td>conf/nips/0001OZ12</td>\n",
              "      <td>['Ping Li 0001', 'Art B. Owen', 'Cun-Hui Zhang']</td>\n",
              "      <td>2012</td>\n",
              "      <td>One Permutation Hashing.</td>\n",
              "      <td>nips</td>\n",
              "    </tr>\n",
              "  </tbody>\n",
              "</table>\n",
              "</div>"
            ],
            "text/plain": [
              "                          paper id  ... conference\n",
              "3882505  conf/nips/FelzenszwalbO14  ...       nips\n",
              "3882506          conf/nips/Davis88  ...       nips\n",
              "3882507         conf/nips/Yuille05  ...       nips\n",
              "3882508          conf/nips/MelRA96  ...       nips\n",
              "3882509         conf/nips/0001OZ12  ...       nips\n",
              "\n",
              "[5 rows x 5 columns]"
            ]
          },
          "metadata": {
            "tags": []
          },
          "execution_count": 54
        }
      ]
    },
    {
      "cell_type": "code",
      "metadata": {
        "id": "C4igVK73eBRr",
        "colab_type": "code",
        "outputId": "bd167636-2dea-4845-f985-3b7f2c601ef9",
        "colab": {
          "base_uri": "https://localhost:8080/",
          "height": 339
        }
      },
      "source": [
        "plt.figure(figsize=(10,5))\n",
        "dblp_ml['paper year'].value_counts(sort=False).sort_index().plot(kind='bar')\n",
        "plt.show()"
      ],
      "execution_count": 0,
      "outputs": [
        {
          "output_type": "display_data",
          "data": {
            "image/png": "[encoded data removed]",
            "text/plain": [
              "<Figure size 720x360 with 1 Axes>"
            ]
          },
          "metadata": {
            "tags": []
          }
        }
      ]
    },
    {
      "cell_type": "code",
      "metadata": {
        "id": "5PwnvaIneBRv",
        "colab_type": "code",
        "outputId": "c98e48d4-efc0-41f4-98e8-6e0cf437c88f",
        "colab": {
          "base_uri": "https://localhost:8080/",
          "height": 52
        }
      },
      "source": [
        "dblp_ml.loc[(dblp_ml['paper year'] == '2010') | (dblp_ml['paper year'] == '2011')]['conference'].value_counts()"
      ],
      "execution_count": 0,
      "outputs": [
        {
          "output_type": "execute_result",
          "data": {
            "text/plain": [
              "icml    314\n",
              "Name: conference, dtype: int64"
            ]
          },
          "metadata": {
            "tags": []
          },
          "execution_count": 56
        }
      ]
    },
    {
      "cell_type": "code",
      "metadata": {
        "id": "9bqv5vU8eBRy",
        "colab_type": "code",
        "outputId": "20d870f5-e73c-4176-ec7e-0109d21dad44",
        "colab": {
          "base_uri": "https://localhost:8080/",
          "height": 371
        }
      },
      "source": [
        "fig, (ax1,ax2) = plt.subplots(1,2,figsize=(20,5))\n",
        "dblp_ml[dblp_ml.conference == 'icml']['paper year'].value_counts(sort=False).sort_index().plot(kind='bar',color='g',ax=ax1,title='ICML publications over the years')\n",
        "dblp_ml[dblp_ml.conference == 'nips']['paper year'].value_counts(sort=False).sort_index().plot(kind='bar',ax=ax2, title='NIPS publications over the years')\n",
        "\n",
        "plt.show()"
      ],
      "execution_count": 0,
      "outputs": [
        {
          "output_type": "display_data",
          "data": {
            "image/png": "[encoded data removed]",
            "text/plain": [
              "<Figure size 1440x360 with 2 Axes>"
            ]
          },
          "metadata": {
            "tags": []
          }
        }
      ]
    },
    {
      "cell_type": "markdown",
      "metadata": {
        "id": "FjEpA28qeBR1",
        "colab_type": "text"
      },
      "source": [
        "We see that there is a problem between the years 2010 and 2011. Indeed, we see a big drop of papers published. This is not normal as it should follow the trend. The problem is that we have no information about the papers published in the NIPS conference between 2010 and 2011."
      ]
    },
    {
      "cell_type": "markdown",
      "metadata": {
        "id": "q7rCmA6-eBR1",
        "colab_type": "text"
      },
      "source": [
        "***A3.4***"
      ]
    },
    {
      "cell_type": "code",
      "metadata": {
        "id": "fpExkSxceBR2",
        "colab_type": "code",
        "colab": {}
      },
      "source": [
        "import requests\n",
        "URL = 'https://papers.nips.cc/'"
      ],
      "execution_count": 0,
      "outputs": []
    },
    {
      "cell_type": "code",
      "metadata": {
        "id": "4xI1u4IIkllC",
        "colab_type": "code",
        "colab": {}
      },
      "source": [
        "r = requests.get(URL)\n",
        "page_body = r.text"
      ],
      "execution_count": 0,
      "outputs": []
    },
    {
      "cell_type": "code",
      "metadata": {
        "id": "NqBmyU9lk1cv",
        "colab_type": "code",
        "colab": {}
      },
      "source": [
        "soup = BeautifulSoup(page_body, 'html.parser')"
      ],
      "execution_count": 0,
      "outputs": []
    },
    {
      "cell_type": "code",
      "metadata": {
        "id": "celNI1zalxqE",
        "colab_type": "code",
        "colab": {}
      },
      "source": [
        "all_links = soup.find_all('a')\n",
        "usefull_links = []\n",
        "for link in all_links:\n",
        "    if(link.get('href').startswith('/book')):  # Retrieve only the links that lead to the \n",
        "        usefull_links.append(link.get('href'))\n",
        "       "
      ],
      "execution_count": 0,
      "outputs": []
    },
    {
      "cell_type": "code",
      "metadata": {
        "id": "0lwYjZyXxP7F",
        "colab_type": "code",
        "colab": {}
      },
      "source": [
        "missing_df = pd.DataFrame(columns=['paper id' ,\t'paper authors' ,\t'paper year', \t'paper title' ,\t'conference'])"
      ],
      "execution_count": 0,
      "outputs": []
    },
    {
      "cell_type": "code",
      "metadata": {
        "id": "_WllsteuoBYM",
        "colab_type": "code",
        "outputId": "aa608202-fa9c-4b5b-db2a-e97e7c8a3159",
        "colab": {
          "base_uri": "https://localhost:8080/",
          "height": 572
        }
      },
      "source": [
        "row_list = []\n",
        "for link in usefull_links:\n",
        "  url = URL + link\n",
        "  year = url.split('-')[-1]\n",
        "  r = requests.get(url)\n",
        "  page_body = r.text\n",
        "  soup = BeautifulSoup(page_body, 'html.parser')\n",
        "  publications_wrappers = soup.find_all('li')\n",
        "  print(year)\n",
        "  for p in publications_wrappers:\n",
        "    authors = []\n",
        "    if p.find_all('a', class_='author'):\n",
        "      title = p.find('a').text\n",
        "      for author in p.find_all('a', class_='author'):\n",
        "        authors.append(author.text)\n",
        "      dict_ = {'paper id' : 'conf' + '/nips/' + authors[0].split(' ')[-1] + year[2:] ,\t'paper authors' : authors,\t'paper year' : year, \t'paper title':title ,\t'conference':'nips'}\n",
        "      row_list.append(dict_)"
      ],
      "execution_count": 0,
      "outputs": [
        {
          "output_type": "stream",
          "text": [
            "2018\n",
            "2017\n",
            "2016\n",
            "2015\n",
            "2014\n",
            "2013\n",
            "2012\n",
            "2011\n",
            "2010\n",
            "2009\n",
            "2008\n",
            "2007\n",
            "2006\n",
            "2005\n",
            "2004\n",
            "2003\n",
            "2002\n",
            "2001\n",
            "2000\n",
            "1999\n",
            "1998\n",
            "1997\n",
            "1996\n",
            "1995\n",
            "1994\n",
            "1993\n",
            "1992\n",
            "1991\n",
            "1990\n",
            "1989\n",
            "1988\n",
            "1987\n"
          ],
          "name": "stdout"
        }
      ]
    },
    {
      "cell_type": "code",
      "metadata": {
        "id": "Kk1zvtT20LWx",
        "colab_type": "code",
        "colab": {}
      },
      "source": [
        "missing_df = missing_df.append(row_list) # DF with all the data in NIPS"
      ],
      "execution_count": 0,
      "outputs": []
    },
    {
      "cell_type": "code",
      "metadata": {
        "id": "WD9U4YHr7isP",
        "colab_type": "code",
        "outputId": "a3120f1a-6e70-488e-bfe6-7b6f1bc9a475",
        "colab": {
          "base_uri": "https://localhost:8080/",
          "height": 311
        }
      },
      "source": [
        "missing_df_auth = splitDataFrameList(missing_df,'paper authors',',')"
      ],
      "execution_count": 0,
      "outputs": [
        {
          "output_type": "error",
          "ename": "AttributeError",
          "evalue": "ignored",
          "traceback": [
            "\u001b[0;31m---------------------------------------------------------------------------\u001b[0m",
            "\u001b[0;31mAttributeError\u001b[0m                            Traceback (most recent call last)",
            "\u001b[0;32m<ipython-input-65-3241b2d5926c>\u001b[0m in \u001b[0;36m<module>\u001b[0;34m()\u001b[0m\n\u001b[0;32m----> 1\u001b[0;31m \u001b[0mmissing_df_auth\u001b[0m \u001b[0;34m=\u001b[0m \u001b[0msplitDataFrameList\u001b[0m\u001b[0;34m(\u001b[0m\u001b[0mmissing_df\u001b[0m\u001b[0;34m,\u001b[0m\u001b[0;34m'paper authors'\u001b[0m\u001b[0;34m,\u001b[0m\u001b[0;34m','\u001b[0m\u001b[0;34m)\u001b[0m\u001b[0;34m\u001b[0m\u001b[0;34m\u001b[0m\u001b[0m\n\u001b[0m",
            "\u001b[0;32m<ipython-input-40-3d5cc253d476>\u001b[0m in \u001b[0;36msplitDataFrameList\u001b[0;34m(df, target_column, separator)\u001b[0m\n\u001b[1;32m     14\u001b[0m \u001b[0;34m\u001b[0m\u001b[0m\n\u001b[1;32m     15\u001b[0m     \u001b[0mnew_rows\u001b[0m \u001b[0;34m=\u001b[0m \u001b[0;34m[\u001b[0m\u001b[0;34m]\u001b[0m\u001b[0;34m\u001b[0m\u001b[0;34m\u001b[0m\u001b[0m\n\u001b[0;32m---> 16\u001b[0;31m     \u001b[0mdf\u001b[0m\u001b[0;34m.\u001b[0m\u001b[0mapply\u001b[0m\u001b[0;34m(\u001b[0m\u001b[0msplitListToRows\u001b[0m\u001b[0;34m,\u001b[0m\u001b[0maxis\u001b[0m\u001b[0;34m=\u001b[0m\u001b[0;36m1\u001b[0m\u001b[0;34m,\u001b[0m\u001b[0margs\u001b[0m \u001b[0;34m=\u001b[0m \u001b[0;34m(\u001b[0m\u001b[0mnew_rows\u001b[0m\u001b[0;34m,\u001b[0m\u001b[0mtarget_column\u001b[0m\u001b[0;34m,\u001b[0m\u001b[0mseparator\u001b[0m\u001b[0;34m)\u001b[0m\u001b[0;34m)\u001b[0m\u001b[0;34m\u001b[0m\u001b[0;34m\u001b[0m\u001b[0m\n\u001b[0m\u001b[1;32m     17\u001b[0m     \u001b[0mnew_df\u001b[0m \u001b[0;34m=\u001b[0m \u001b[0mpd\u001b[0m\u001b[0;34m.\u001b[0m\u001b[0mDataFrame\u001b[0m\u001b[0;34m(\u001b[0m\u001b[0mnew_rows\u001b[0m\u001b[0;34m)\u001b[0m\u001b[0;34m\u001b[0m\u001b[0;34m\u001b[0m\u001b[0m\n\u001b[1;32m     18\u001b[0m     \u001b[0;32mreturn\u001b[0m \u001b[0mnew_df\u001b[0m\u001b[0;34m\u001b[0m\u001b[0;34m\u001b[0m\u001b[0m\n",
            "\u001b[0;32m/usr/local/lib/python3.6/dist-packages/pandas/core/frame.py\u001b[0m in \u001b[0;36mapply\u001b[0;34m(self, func, axis, broadcast, raw, reduce, result_type, args, **kwds)\u001b[0m\n\u001b[1;32m   6485\u001b[0m                          \u001b[0margs\u001b[0m\u001b[0;34m=\u001b[0m\u001b[0margs\u001b[0m\u001b[0;34m,\u001b[0m\u001b[0;34m\u001b[0m\u001b[0;34m\u001b[0m\u001b[0m\n\u001b[1;32m   6486\u001b[0m                          kwds=kwds)\n\u001b[0;32m-> 6487\u001b[0;31m         \u001b[0;32mreturn\u001b[0m \u001b[0mop\u001b[0m\u001b[0;34m.\u001b[0m\u001b[0mget_result\u001b[0m\u001b[0;34m(\u001b[0m\u001b[0;34m)\u001b[0m\u001b[0;34m\u001b[0m\u001b[0;34m\u001b[0m\u001b[0m\n\u001b[0m\u001b[1;32m   6488\u001b[0m \u001b[0;34m\u001b[0m\u001b[0m\n\u001b[1;32m   6489\u001b[0m     \u001b[0;32mdef\u001b[0m \u001b[0mapplymap\u001b[0m\u001b[0;34m(\u001b[0m\u001b[0mself\u001b[0m\u001b[0;34m,\u001b[0m \u001b[0mfunc\u001b[0m\u001b[0;34m)\u001b[0m\u001b[0;34m:\u001b[0m\u001b[0;34m\u001b[0m\u001b[0;34m\u001b[0m\u001b[0m\n",
            "\u001b[0;32m/usr/local/lib/python3.6/dist-packages/pandas/core/apply.py\u001b[0m in \u001b[0;36mget_result\u001b[0;34m(self)\u001b[0m\n\u001b[1;32m    149\u001b[0m             \u001b[0;32mreturn\u001b[0m \u001b[0mself\u001b[0m\u001b[0;34m.\u001b[0m\u001b[0mapply_raw\u001b[0m\u001b[0;34m(\u001b[0m\u001b[0;34m)\u001b[0m\u001b[0;34m\u001b[0m\u001b[0;34m\u001b[0m\u001b[0m\n\u001b[1;32m    150\u001b[0m \u001b[0;34m\u001b[0m\u001b[0m\n\u001b[0;32m--> 151\u001b[0;31m         \u001b[0;32mreturn\u001b[0m \u001b[0mself\u001b[0m\u001b[0;34m.\u001b[0m\u001b[0mapply_standard\u001b[0m\u001b[0;34m(\u001b[0m\u001b[0;34m)\u001b[0m\u001b[0;34m\u001b[0m\u001b[0;34m\u001b[0m\u001b[0m\n\u001b[0m\u001b[1;32m    152\u001b[0m \u001b[0;34m\u001b[0m\u001b[0m\n\u001b[1;32m    153\u001b[0m     \u001b[0;32mdef\u001b[0m \u001b[0mapply_empty_result\u001b[0m\u001b[0;34m(\u001b[0m\u001b[0mself\u001b[0m\u001b[0;34m)\u001b[0m\u001b[0;34m:\u001b[0m\u001b[0;34m\u001b[0m\u001b[0;34m\u001b[0m\u001b[0m\n",
            "\u001b[0;32m/usr/local/lib/python3.6/dist-packages/pandas/core/apply.py\u001b[0m in \u001b[0;36mapply_standard\u001b[0;34m(self)\u001b[0m\n\u001b[1;32m    255\u001b[0m \u001b[0;34m\u001b[0m\u001b[0m\n\u001b[1;32m    256\u001b[0m         \u001b[0;31m# compute the result using the series generator\u001b[0m\u001b[0;34m\u001b[0m\u001b[0;34m\u001b[0m\u001b[0;34m\u001b[0m\u001b[0m\n\u001b[0;32m--> 257\u001b[0;31m         \u001b[0mself\u001b[0m\u001b[0;34m.\u001b[0m\u001b[0mapply_series_generator\u001b[0m\u001b[0;34m(\u001b[0m\u001b[0;34m)\u001b[0m\u001b[0;34m\u001b[0m\u001b[0;34m\u001b[0m\u001b[0m\n\u001b[0m\u001b[1;32m    258\u001b[0m \u001b[0;34m\u001b[0m\u001b[0m\n\u001b[1;32m    259\u001b[0m         \u001b[0;31m# wrap results\u001b[0m\u001b[0;34m\u001b[0m\u001b[0;34m\u001b[0m\u001b[0;34m\u001b[0m\u001b[0m\n",
            "\u001b[0;32m/usr/local/lib/python3.6/dist-packages/pandas/core/apply.py\u001b[0m in \u001b[0;36mapply_series_generator\u001b[0;34m(self)\u001b[0m\n\u001b[1;32m    284\u001b[0m             \u001b[0;32mtry\u001b[0m\u001b[0;34m:\u001b[0m\u001b[0;34m\u001b[0m\u001b[0;34m\u001b[0m\u001b[0m\n\u001b[1;32m    285\u001b[0m                 \u001b[0;32mfor\u001b[0m \u001b[0mi\u001b[0m\u001b[0;34m,\u001b[0m \u001b[0mv\u001b[0m \u001b[0;32min\u001b[0m \u001b[0menumerate\u001b[0m\u001b[0;34m(\u001b[0m\u001b[0mseries_gen\u001b[0m\u001b[0;34m)\u001b[0m\u001b[0;34m:\u001b[0m\u001b[0;34m\u001b[0m\u001b[0;34m\u001b[0m\u001b[0m\n\u001b[0;32m--> 286\u001b[0;31m                     \u001b[0mresults\u001b[0m\u001b[0;34m[\u001b[0m\u001b[0mi\u001b[0m\u001b[0;34m]\u001b[0m \u001b[0;34m=\u001b[0m \u001b[0mself\u001b[0m\u001b[0;34m.\u001b[0m\u001b[0mf\u001b[0m\u001b[0;34m(\u001b[0m\u001b[0mv\u001b[0m\u001b[0;34m)\u001b[0m\u001b[0;34m\u001b[0m\u001b[0;34m\u001b[0m\u001b[0m\n\u001b[0m\u001b[1;32m    287\u001b[0m                     \u001b[0mkeys\u001b[0m\u001b[0;34m.\u001b[0m\u001b[0mappend\u001b[0m\u001b[0;34m(\u001b[0m\u001b[0mv\u001b[0m\u001b[0;34m.\u001b[0m\u001b[0mname\u001b[0m\u001b[0;34m)\u001b[0m\u001b[0;34m\u001b[0m\u001b[0;34m\u001b[0m\u001b[0m\n\u001b[1;32m    288\u001b[0m             \u001b[0;32mexcept\u001b[0m \u001b[0mException\u001b[0m \u001b[0;32mas\u001b[0m \u001b[0me\u001b[0m\u001b[0;34m:\u001b[0m\u001b[0;34m\u001b[0m\u001b[0;34m\u001b[0m\u001b[0m\n",
            "\u001b[0;32m/usr/local/lib/python3.6/dist-packages/pandas/core/apply.py\u001b[0m in \u001b[0;36mf\u001b[0;34m(x)\u001b[0m\n\u001b[1;32m     76\u001b[0m \u001b[0;34m\u001b[0m\u001b[0m\n\u001b[1;32m     77\u001b[0m             \u001b[0;32mdef\u001b[0m \u001b[0mf\u001b[0m\u001b[0;34m(\u001b[0m\u001b[0mx\u001b[0m\u001b[0;34m)\u001b[0m\u001b[0;34m:\u001b[0m\u001b[0;34m\u001b[0m\u001b[0;34m\u001b[0m\u001b[0m\n\u001b[0;32m---> 78\u001b[0;31m                 \u001b[0;32mreturn\u001b[0m \u001b[0mfunc\u001b[0m\u001b[0;34m(\u001b[0m\u001b[0mx\u001b[0m\u001b[0;34m,\u001b[0m \u001b[0;34m*\u001b[0m\u001b[0margs\u001b[0m\u001b[0;34m,\u001b[0m \u001b[0;34m**\u001b[0m\u001b[0mkwds\u001b[0m\u001b[0;34m)\u001b[0m\u001b[0;34m\u001b[0m\u001b[0;34m\u001b[0m\u001b[0m\n\u001b[0m\u001b[1;32m     79\u001b[0m         \u001b[0;32melse\u001b[0m\u001b[0;34m:\u001b[0m\u001b[0;34m\u001b[0m\u001b[0;34m\u001b[0m\u001b[0m\n\u001b[1;32m     80\u001b[0m             \u001b[0mf\u001b[0m \u001b[0;34m=\u001b[0m \u001b[0mfunc\u001b[0m\u001b[0;34m\u001b[0m\u001b[0;34m\u001b[0m\u001b[0m\n",
            "\u001b[0;32m<ipython-input-40-3d5cc253d476>\u001b[0m in \u001b[0;36msplitListToRows\u001b[0;34m(row, row_accumulator, target_column, separator)\u001b[0m\n\u001b[1;32m      7\u001b[0m \u001b[0;34m\u001b[0m\u001b[0m\n\u001b[1;32m      8\u001b[0m     \u001b[0;32mdef\u001b[0m \u001b[0msplitListToRows\u001b[0m\u001b[0;34m(\u001b[0m\u001b[0mrow\u001b[0m\u001b[0;34m,\u001b[0m\u001b[0mrow_accumulator\u001b[0m\u001b[0;34m,\u001b[0m\u001b[0mtarget_column\u001b[0m\u001b[0;34m,\u001b[0m\u001b[0mseparator\u001b[0m\u001b[0;34m)\u001b[0m\u001b[0;34m:\u001b[0m\u001b[0;34m\u001b[0m\u001b[0;34m\u001b[0m\u001b[0m\n\u001b[0;32m----> 9\u001b[0;31m         \u001b[0msplit_row\u001b[0m \u001b[0;34m=\u001b[0m \u001b[0mrow\u001b[0m\u001b[0;34m[\u001b[0m\u001b[0mtarget_column\u001b[0m\u001b[0;34m]\u001b[0m\u001b[0;34m.\u001b[0m\u001b[0msplit\u001b[0m\u001b[0;34m(\u001b[0m\u001b[0mseparator\u001b[0m\u001b[0;34m)\u001b[0m\u001b[0;34m\u001b[0m\u001b[0;34m\u001b[0m\u001b[0m\n\u001b[0m\u001b[1;32m     10\u001b[0m         \u001b[0;32mfor\u001b[0m \u001b[0ms\u001b[0m \u001b[0;32min\u001b[0m \u001b[0msplit_row\u001b[0m\u001b[0;34m:\u001b[0m\u001b[0;34m\u001b[0m\u001b[0;34m\u001b[0m\u001b[0m\n\u001b[1;32m     11\u001b[0m             \u001b[0mnew_row\u001b[0m \u001b[0;34m=\u001b[0m \u001b[0mrow\u001b[0m\u001b[0;34m.\u001b[0m\u001b[0mto_dict\u001b[0m\u001b[0;34m(\u001b[0m\u001b[0;34m)\u001b[0m\u001b[0;34m\u001b[0m\u001b[0;34m\u001b[0m\u001b[0m\n",
            "\u001b[0;31mAttributeError\u001b[0m: (\"'list' object has no attribute 'split'\", 'occurred at index 0')"
          ]
        }
      ]
    },
    {
      "cell_type": "markdown",
      "metadata": {
        "id": "4Mc4le095I-3",
        "colab_type": "text"
      },
      "source": [
        "We already have done some cleaning but we still need to remove some inconsistencies\n"
      ]
    },
    {
      "cell_type": "code",
      "metadata": {
        "id": "PRhjZGEmum4u",
        "colab_type": "code",
        "colab": {}
      },
      "source": [
        "# Cleaning part\n",
        "\n",
        "# We first replace the problematic nips data by our clean data\n",
        "dblp_papers = dblp_papers[dblp_papers['conference'] != 'nips'].append(missing_df)\n",
        "dblp_authors = dblp_authors[dblp_authors['conference'] != 'nips'].append(missing_df_auth)\n",
        "dblp_ml = dblp_ml[dblp_ml['conference'] != 'nips'].append(missing_df)\n",
        "\n",
        "# Then we drop the data that is still missing\n",
        "dblp_authors = dblp_authors[dblp_authors['paper year'] != '']\n",
        "dblp_papers = dblp_papers[dblp_papers['paper authors'] != '[]']\n",
        "dblp_ml = dblp_ml[dblp_ml['paper authors'] != '[]']"
      ],
      "execution_count": 0,
      "outputs": []
    },
    {
      "cell_type": "markdown",
      "metadata": {
        "id": "7hG2qF0K--zK",
        "colab_type": "text"
      },
      "source": [
        "Now we redo the previous graphs"
      ]
    },
    {
      "cell_type": "markdown",
      "metadata": {
        "id": "yhV74xuI_cGg",
        "colab_type": "text"
      },
      "source": [
        "A.3.2"
      ]
    },
    {
      "cell_type": "code",
      "metadata": {
        "id": "yIp_n4FM-1m7",
        "colab_type": "code",
        "colab": {}
      },
      "source": [
        "plt.figure(figsize=(10,5))\n",
        "dblp_papers['paper year'].value_counts(sort=False).sort_index().plot(kind='bar')\n",
        "plt.show()"
      ],
      "execution_count": 0,
      "outputs": []
    },
    {
      "cell_type": "markdown",
      "metadata": {
        "id": "NR6m3UJf_fsr",
        "colab_type": "text"
      },
      "source": [
        "A.3.3"
      ]
    },
    {
      "cell_type": "code",
      "metadata": {
        "id": "kOZ8Ayvf_IzF",
        "colab_type": "code",
        "colab": {}
      },
      "source": [
        "plt.figure(figsize=(10,5))\n",
        "dblp_ml['paper year'].value_counts(sort=False).sort_index().plot(kind='bar')\n",
        "plt.show()"
      ],
      "execution_count": 0,
      "outputs": []
    },
    {
      "cell_type": "markdown",
      "metadata": {
        "id": "2CtXNfOV_j0Q",
        "colab_type": "text"
      },
      "source": [
        "We save the current clean DF"
      ]
    },
    {
      "cell_type": "code",
      "metadata": {
        "id": "5UYgFhmf_oND",
        "colab_type": "code",
        "colab": {}
      },
      "source": [
        "dblp_papers.to_pickle(\"dblp_papers.pkl\")\n",
        "dblp_authors.to_pickle(\"dblp_authors.pkl\")"
      ],
      "execution_count": 0,
      "outputs": []
    },
    {
      "cell_type": "code",
      "metadata": {
        "id": "ii5S5J7SAiAj",
        "colab_type": "code",
        "colab": {}
      },
      "source": [
        "dblp_papers = pd.read_pickle(\"dblp_papers.pkl\")\n",
        "dblp_authors = pd.read_pickle(\"dblp_authors.pkl\")"
      ],
      "execution_count": 0,
      "outputs": []
    },
    {
      "cell_type": "markdown",
      "metadata": {
        "colab_type": "text",
        "id": "0h0Zw8cPTyEp"
      },
      "source": [
        "### A4. Author activity\n",
        "\n",
        "For each author, calculate their normalized paper count, defined as the total number of papers divided by the author’s period of activity. An author’s period of activity is defined as the number of years between the earliest and latest papers of this author. Plot the distribution of the normalized paper count. What is the appropriate scale for the axes? Does the distribution (roughly) follow a particular law, and if yes, which one?"
      ]
    },
    {
      "cell_type": "code",
      "metadata": {
        "colab_type": "code",
        "id": "dGV5GAndl6LE",
        "outputId": "2a3e5ef4-1231-4c09-d3df-5788da19cfd0",
        "colab": {
          "base_uri": "https://localhost:8080/",
          "height": 235
        }
      },
      "source": [
        "grouped = dblp_authors.groupby('paper authors')\n",
        "dict_npc = {}\n",
        "for i, group in grouped:\n",
        "  if (int(group['paper year'].max()) - int(group['paper year'].min())):\n",
        "    activity = int(group['paper year'].max()) - int(group['paper year'].min())\n",
        "  else:\n",
        "    activity = int(group['paper year'].max())\n",
        "  nb_papers = len(group)\n",
        "  dict_npc[i] = nb_papers/activity"
      ],
      "execution_count": 0,
      "outputs": [
        {
          "output_type": "error",
          "ename": "NameError",
          "evalue": "ignored",
          "traceback": [
            "\u001b[0;31m---------------------------------------------------------------------------\u001b[0m",
            "\u001b[0;31mNameError\u001b[0m                                 Traceback (most recent call last)",
            "\u001b[0;32m<ipython-input-4-ca45a13c9224>\u001b[0m in \u001b[0;36m<module>\u001b[0;34m()\u001b[0m\n\u001b[0;32m----> 1\u001b[0;31m \u001b[0mgrouped\u001b[0m \u001b[0;34m=\u001b[0m \u001b[0mdblp_authors\u001b[0m\u001b[0;34m.\u001b[0m\u001b[0mgroupby\u001b[0m\u001b[0;34m(\u001b[0m\u001b[0;34m'paper authors'\u001b[0m\u001b[0;34m)\u001b[0m\u001b[0;34m\u001b[0m\u001b[0;34m\u001b[0m\u001b[0m\n\u001b[0m\u001b[1;32m      2\u001b[0m \u001b[0mdict_npc\u001b[0m \u001b[0;34m=\u001b[0m \u001b[0;34m{\u001b[0m\u001b[0;34m}\u001b[0m\u001b[0;34m\u001b[0m\u001b[0;34m\u001b[0m\u001b[0m\n\u001b[1;32m      3\u001b[0m \u001b[0;32mfor\u001b[0m \u001b[0mi\u001b[0m\u001b[0;34m,\u001b[0m \u001b[0mgroup\u001b[0m \u001b[0;32min\u001b[0m \u001b[0mgrouped\u001b[0m\u001b[0;34m:\u001b[0m\u001b[0;34m\u001b[0m\u001b[0;34m\u001b[0m\u001b[0m\n\u001b[1;32m      4\u001b[0m   \u001b[0;32mif\u001b[0m \u001b[0;34m(\u001b[0m\u001b[0mint\u001b[0m\u001b[0;34m(\u001b[0m\u001b[0mgroup\u001b[0m\u001b[0;34m[\u001b[0m\u001b[0;34m'paper year'\u001b[0m\u001b[0;34m]\u001b[0m\u001b[0;34m.\u001b[0m\u001b[0mmax\u001b[0m\u001b[0;34m(\u001b[0m\u001b[0;34m)\u001b[0m\u001b[0;34m)\u001b[0m \u001b[0;34m-\u001b[0m \u001b[0mint\u001b[0m\u001b[0;34m(\u001b[0m\u001b[0mgroup\u001b[0m\u001b[0;34m[\u001b[0m\u001b[0;34m'paper year'\u001b[0m\u001b[0;34m]\u001b[0m\u001b[0;34m.\u001b[0m\u001b[0mmin\u001b[0m\u001b[0;34m(\u001b[0m\u001b[0;34m)\u001b[0m\u001b[0;34m)\u001b[0m\u001b[0;34m)\u001b[0m\u001b[0;34m:\u001b[0m\u001b[0;34m\u001b[0m\u001b[0;34m\u001b[0m\u001b[0m\n\u001b[1;32m      5\u001b[0m     \u001b[0mactivity\u001b[0m \u001b[0;34m=\u001b[0m \u001b[0mint\u001b[0m\u001b[0;34m(\u001b[0m\u001b[0mgroup\u001b[0m\u001b[0;34m[\u001b[0m\u001b[0;34m'paper year'\u001b[0m\u001b[0;34m]\u001b[0m\u001b[0;34m.\u001b[0m\u001b[0mmax\u001b[0m\u001b[0;34m(\u001b[0m\u001b[0;34m)\u001b[0m\u001b[0;34m)\u001b[0m \u001b[0;34m-\u001b[0m \u001b[0mint\u001b[0m\u001b[0;34m(\u001b[0m\u001b[0mgroup\u001b[0m\u001b[0;34m[\u001b[0m\u001b[0;34m'paper year'\u001b[0m\u001b[0;34m]\u001b[0m\u001b[0;34m.\u001b[0m\u001b[0mmin\u001b[0m\u001b[0;34m(\u001b[0m\u001b[0;34m)\u001b[0m\u001b[0;34m)\u001b[0m\u001b[0;34m\u001b[0m\u001b[0;34m\u001b[0m\u001b[0m\n",
            "\u001b[0;31mNameError\u001b[0m: name 'dblp_authors' is not defined"
          ]
        }
      ]
    },
    {
      "cell_type": "code",
      "metadata": {
        "id": "A-J5iC76FXEp",
        "colab_type": "code",
        "colab": {}
      },
      "source": [
        "import seaborn as sns\n",
        "ax = sns.distplot(list(dict_npc.values()),kde=False,bins=50)\n",
        "ax.set_yscale('log')"
      ],
      "execution_count": 0,
      "outputs": []
    },
    {
      "cell_type": "markdown",
      "metadata": {
        "colab_type": "text",
        "id": "ZM7pH8Y_UF3H"
      },
      "source": [
        "## Task B. Ranking authors\n",
        "\n",
        "As you may know, there exist rankings for universities, which represent their relative quality and are used to compare the performance of different universities. In the same vein, there are rankings for conferences and journals, which represent the importance and impact of each conference or journal, and therefore allow for approximate comparisons. In this part, you will rank authors based on different aspects of their research output.\n",
        "\n",
        "### B1. A Naïve Score\n",
        "\n",
        "In the absence of citation counts, it is hard to objectively rank the authors based on the impact of their contributions to the field of AI research. A naïve way would be to rank them based on their number of published papers. Obtain such a ranking and analyze your result. Identify and explain some obvious limitations of this scheme."
      ]
    },
    {
      "cell_type": "code",
      "metadata": {
        "id": "7CXeh5RGrS8M",
        "colab_type": "code",
        "outputId": "e6d44dfc-c021-4863-d9c6-48b1dfba6200",
        "colab": {
          "base_uri": "https://localhost:8080/",
          "height": 1000
        }
      },
      "source": [
        "rk= dblp_authors.groupby(['paper authors'],as_index=False).agg({'paper id': 'count'})\n",
        "rk=rk.rename(columns={\"paper id\":\"numberofpapers\"})\n",
        "rk=rk.sort_values(by='numberofpapers', ascending= False).reset_index(drop=True)\n",
        "rk"
      ],
      "execution_count": 0,
      "outputs": [
        {
          "output_type": "execute_result",
          "data": {
            "text/html": [
              "<div>\n",
              "<style scoped>\n",
              "    .dataframe tbody tr th:only-of-type {\n",
              "        vertical-align: middle;\n",
              "    }\n",
              "\n",
              "    .dataframe tbody tr th {\n",
              "        vertical-align: top;\n",
              "    }\n",
              "\n",
              "    .dataframe thead th {\n",
              "        text-align: right;\n",
              "    }\n",
              "</style>\n",
              "<table border=\"1\" class=\"dataframe\">\n",
              "  <thead>\n",
              "    <tr style=\"text-align: right;\">\n",
              "      <th></th>\n",
              "      <th>paper authors</th>\n",
              "      <th>numberofpapers</th>\n",
              "    </tr>\n",
              "  </thead>\n",
              "  <tbody>\n",
              "    <tr>\n",
              "      <th>0</th>\n",
              "      <td>Sheila A. McIlraith</td>\n",
              "      <td>913</td>\n",
              "    </tr>\n",
              "    <tr>\n",
              "      <th>1</th>\n",
              "      <td>Satinder P. Singh (ed.)</td>\n",
              "      <td>661</td>\n",
              "    </tr>\n",
              "    <tr>\n",
              "      <th>2</th>\n",
              "      <td>Luc Van Gool</td>\n",
              "      <td>216</td>\n",
              "    </tr>\n",
              "    <tr>\n",
              "      <th>3</th>\n",
              "      <td>Thomas S. Huang</td>\n",
              "      <td>185</td>\n",
              "    </tr>\n",
              "    <tr>\n",
              "      <th>4</th>\n",
              "      <td>Toshio Fukuda</td>\n",
              "      <td>163</td>\n",
              "    </tr>\n",
              "    <tr>\n",
              "      <th>5</th>\n",
              "      <td>Michael I. Jordan</td>\n",
              "      <td>162</td>\n",
              "    </tr>\n",
              "    <tr>\n",
              "      <th>6</th>\n",
              "      <td>Xiaoou Tang</td>\n",
              "      <td>147</td>\n",
              "    </tr>\n",
              "    <tr>\n",
              "      <th>7</th>\n",
              "      <td>Shuicheng Yan</td>\n",
              "      <td>146</td>\n",
              "    </tr>\n",
              "    <tr>\n",
              "      <th>8</th>\n",
              "      <td>Takeo Kanade</td>\n",
              "      <td>145</td>\n",
              "    </tr>\n",
              "    <tr>\n",
              "      <th>9</th>\n",
              "      <td>Trevor Darrell</td>\n",
              "      <td>142</td>\n",
              "    </tr>\n",
              "    <tr>\n",
              "      <th>10</th>\n",
              "      <td>Larry S. Davis</td>\n",
              "      <td>142</td>\n",
              "    </tr>\n",
              "    <tr>\n",
              "      <th>11</th>\n",
              "      <td>Vijay Kumar 0001</td>\n",
              "      <td>141</td>\n",
              "    </tr>\n",
              "    <tr>\n",
              "      <th>12</th>\n",
              "      <td>Roland Siegwart</td>\n",
              "      <td>137</td>\n",
              "    </tr>\n",
              "    <tr>\n",
              "      <th>13</th>\n",
              "      <td>Wolfram Burgard</td>\n",
              "      <td>136</td>\n",
              "    </tr>\n",
              "    <tr>\n",
              "      <th>14</th>\n",
              "      <td>Christopher D. Manning</td>\n",
              "      <td>133</td>\n",
              "    </tr>\n",
              "    <tr>\n",
              "      <th>15</th>\n",
              "      <td>Andrew Zisserman</td>\n",
              "      <td>132</td>\n",
              "    </tr>\n",
              "    <tr>\n",
              "      <th>16</th>\n",
              "      <td>Eric P. Xing</td>\n",
              "      <td>131</td>\n",
              "    </tr>\n",
              "    <tr>\n",
              "      <th>17</th>\n",
              "      <td>Marc Pollefeys</td>\n",
              "      <td>130</td>\n",
              "    </tr>\n",
              "    <tr>\n",
              "      <th>18</th>\n",
              "      <td>Martial Hebert</td>\n",
              "      <td>129</td>\n",
              "    </tr>\n",
              "    <tr>\n",
              "      <th>19</th>\n",
              "      <td>Dan Roth</td>\n",
              "      <td>129</td>\n",
              "    </tr>\n",
              "    <tr>\n",
              "      <th>20</th>\n",
              "      <td>Bernhard Schölkopf</td>\n",
              "      <td>123</td>\n",
              "    </tr>\n",
              "    <tr>\n",
              "      <th>21</th>\n",
              "      <td>Dan Klein</td>\n",
              "      <td>123</td>\n",
              "    </tr>\n",
              "    <tr>\n",
              "      <th>22</th>\n",
              "      <td>Lawrence Carin</td>\n",
              "      <td>118</td>\n",
              "    </tr>\n",
              "    <tr>\n",
              "      <th>23</th>\n",
              "      <td>Rama Chellappa</td>\n",
              "      <td>117</td>\n",
              "    </tr>\n",
              "    <tr>\n",
              "      <th>24</th>\n",
              "      <td>Dacheng Tao</td>\n",
              "      <td>115</td>\n",
              "    </tr>\n",
              "    <tr>\n",
              "      <th>25</th>\n",
              "      <td>Ming-Hsuan Yang 0001</td>\n",
              "      <td>115</td>\n",
              "    </tr>\n",
              "    <tr>\n",
              "      <th>26</th>\n",
              "      <td>Noah A. Smith</td>\n",
              "      <td>114</td>\n",
              "    </tr>\n",
              "    <tr>\n",
              "      <th>27</th>\n",
              "      <td>Xilin Chen</td>\n",
              "      <td>112</td>\n",
              "    </tr>\n",
              "    <tr>\n",
              "      <th>28</th>\n",
              "      <td>Mubarak Shah</td>\n",
              "      <td>111</td>\n",
              "    </tr>\n",
              "    <tr>\n",
              "      <th>29</th>\n",
              "      <td>Daniela Rus</td>\n",
              "      <td>111</td>\n",
              "    </tr>\n",
              "    <tr>\n",
              "      <th>...</th>\n",
              "      <td>...</td>\n",
              "      <td>...</td>\n",
              "    </tr>\n",
              "    <tr>\n",
              "      <th>129528</th>\n",
              "      <td>Qinqun Bai</td>\n",
              "      <td>1</td>\n",
              "    </tr>\n",
              "    <tr>\n",
              "      <th>129529</th>\n",
              "      <td>Qinquan Gao</td>\n",
              "      <td>1</td>\n",
              "    </tr>\n",
              "    <tr>\n",
              "      <th>129530</th>\n",
              "      <td>Qinneng Xu</td>\n",
              "      <td>1</td>\n",
              "    </tr>\n",
              "    <tr>\n",
              "      <th>129531</th>\n",
              "      <td>Qinming He</td>\n",
              "      <td>1</td>\n",
              "    </tr>\n",
              "    <tr>\n",
              "      <th>129532</th>\n",
              "      <td>Qinmin Pan</td>\n",
              "      <td>1</td>\n",
              "    </tr>\n",
              "    <tr>\n",
              "      <th>129533</th>\n",
              "      <td>Qiquan Quan</td>\n",
              "      <td>1</td>\n",
              "    </tr>\n",
              "    <tr>\n",
              "      <th>129534</th>\n",
              "      <td>Qirong Mao</td>\n",
              "      <td>1</td>\n",
              "    </tr>\n",
              "    <tr>\n",
              "      <th>129535</th>\n",
              "      <td>Qishen Wang</td>\n",
              "      <td>1</td>\n",
              "    </tr>\n",
              "    <tr>\n",
              "      <th>129536</th>\n",
              "      <td>Qiuming Zhu</td>\n",
              "      <td>1</td>\n",
              "    </tr>\n",
              "    <tr>\n",
              "      <th>129537</th>\n",
              "      <td>Qiuyu Guan</td>\n",
              "      <td>1</td>\n",
              "    </tr>\n",
              "    <tr>\n",
              "      <th>129538</th>\n",
              "      <td>Qiuye Sun</td>\n",
              "      <td>1</td>\n",
              "    </tr>\n",
              "    <tr>\n",
              "      <th>129539</th>\n",
              "      <td>Qiuyang Tao</td>\n",
              "      <td>1</td>\n",
              "    </tr>\n",
              "    <tr>\n",
              "      <th>129540</th>\n",
              "      <td>Qiuyang Liu</td>\n",
              "      <td>1</td>\n",
              "    </tr>\n",
              "    <tr>\n",
              "      <th>129541</th>\n",
              "      <td>Qiuyan Zhong</td>\n",
              "      <td>1</td>\n",
              "    </tr>\n",
              "    <tr>\n",
              "      <th>129542</th>\n",
              "      <td>Qiuyan Zhang</td>\n",
              "      <td>1</td>\n",
              "    </tr>\n",
              "    <tr>\n",
              "      <th>129543</th>\n",
              "      <td>Qiuwei Li</td>\n",
              "      <td>1</td>\n",
              "    </tr>\n",
              "    <tr>\n",
              "      <th>129544</th>\n",
              "      <td>Qiusong Yang</td>\n",
              "      <td>1</td>\n",
              "    </tr>\n",
              "    <tr>\n",
              "      <th>129545</th>\n",
              "      <td>Qiushi Huang</td>\n",
              "      <td>1</td>\n",
              "    </tr>\n",
              "    <tr>\n",
              "      <th>129546</th>\n",
              "      <td>Qiumei Qin</td>\n",
              "      <td>1</td>\n",
              "    </tr>\n",
              "    <tr>\n",
              "      <th>129547</th>\n",
              "      <td>Qishi Wu</td>\n",
              "      <td>1</td>\n",
              "    </tr>\n",
              "    <tr>\n",
              "      <th>129548</th>\n",
              "      <td>Qiuli Tong</td>\n",
              "      <td>1</td>\n",
              "    </tr>\n",
              "    <tr>\n",
              "      <th>129549</th>\n",
              "      <td>Qiujian Lu</td>\n",
              "      <td>1</td>\n",
              "    </tr>\n",
              "    <tr>\n",
              "      <th>129550</th>\n",
              "      <td>Qiuhui Tong</td>\n",
              "      <td>1</td>\n",
              "    </tr>\n",
              "    <tr>\n",
              "      <th>129551</th>\n",
              "      <td>Qiuhong Zhou</td>\n",
              "      <td>1</td>\n",
              "    </tr>\n",
              "    <tr>\n",
              "      <th>129552</th>\n",
              "      <td>Qiuguo Zhu</td>\n",
              "      <td>1</td>\n",
              "    </tr>\n",
              "    <tr>\n",
              "      <th>129553</th>\n",
              "      <td>Qiudan Li</td>\n",
              "      <td>1</td>\n",
              "    </tr>\n",
              "    <tr>\n",
              "      <th>129554</th>\n",
              "      <td>Qiu Shen</td>\n",
              "      <td>1</td>\n",
              "    </tr>\n",
              "    <tr>\n",
              "      <th>129555</th>\n",
              "      <td>Qiu Guan</td>\n",
              "      <td>1</td>\n",
              "    </tr>\n",
              "    <tr>\n",
              "      <th>129556</th>\n",
              "      <td>Qiting Ye</td>\n",
              "      <td>1</td>\n",
              "    </tr>\n",
              "    <tr>\n",
              "      <th>129557</th>\n",
              "      <td>Ümit Özgüner</td>\n",
              "      <td>1</td>\n",
              "    </tr>\n",
              "  </tbody>\n",
              "</table>\n",
              "<p>129558 rows × 2 columns</p>\n",
              "</div>"
            ],
            "text/plain": [
              "                   paper authors  numberofpapers\n",
              "0            Sheila A. McIlraith             913\n",
              "1        Satinder P. Singh (ed.)             661\n",
              "2                   Luc Van Gool             216\n",
              "3                Thomas S. Huang             185\n",
              "4                  Toshio Fukuda             163\n",
              "5              Michael I. Jordan             162\n",
              "6                    Xiaoou Tang             147\n",
              "7                  Shuicheng Yan             146\n",
              "8                   Takeo Kanade             145\n",
              "9                 Trevor Darrell             142\n",
              "10                Larry S. Davis             142\n",
              "11              Vijay Kumar 0001             141\n",
              "12               Roland Siegwart             137\n",
              "13               Wolfram Burgard             136\n",
              "14        Christopher D. Manning             133\n",
              "15              Andrew Zisserman             132\n",
              "16                  Eric P. Xing             131\n",
              "17                Marc Pollefeys             130\n",
              "18                Martial Hebert             129\n",
              "19                      Dan Roth             129\n",
              "20            Bernhard Schölkopf             123\n",
              "21                     Dan Klein             123\n",
              "22                Lawrence Carin             118\n",
              "23                Rama Chellappa             117\n",
              "24                   Dacheng Tao             115\n",
              "25          Ming-Hsuan Yang 0001             115\n",
              "26                 Noah A. Smith             114\n",
              "27                    Xilin Chen             112\n",
              "28                  Mubarak Shah             111\n",
              "29                   Daniela Rus             111\n",
              "...                          ...             ...\n",
              "129528                Qinqun Bai               1\n",
              "129529               Qinquan Gao               1\n",
              "129530                Qinneng Xu               1\n",
              "129531                Qinming He               1\n",
              "129532                Qinmin Pan               1\n",
              "129533               Qiquan Quan               1\n",
              "129534                Qirong Mao               1\n",
              "129535               Qishen Wang               1\n",
              "129536               Qiuming Zhu               1\n",
              "129537                Qiuyu Guan               1\n",
              "129538                 Qiuye Sun               1\n",
              "129539               Qiuyang Tao               1\n",
              "129540               Qiuyang Liu               1\n",
              "129541              Qiuyan Zhong               1\n",
              "129542              Qiuyan Zhang               1\n",
              "129543                 Qiuwei Li               1\n",
              "129544              Qiusong Yang               1\n",
              "129545              Qiushi Huang               1\n",
              "129546                Qiumei Qin               1\n",
              "129547                  Qishi Wu               1\n",
              "129548                Qiuli Tong               1\n",
              "129549                Qiujian Lu               1\n",
              "129550               Qiuhui Tong               1\n",
              "129551              Qiuhong Zhou               1\n",
              "129552                Qiuguo Zhu               1\n",
              "129553                 Qiudan Li               1\n",
              "129554                  Qiu Shen               1\n",
              "129555                  Qiu Guan               1\n",
              "129556                 Qiting Ye               1\n",
              "129557              Ümit Özgüner               1\n",
              "\n",
              "[129558 rows x 2 columns]"
            ]
          },
          "metadata": {
            "tags": []
          },
          "execution_count": 223
        }
      ]
    },
    {
      "cell_type": "markdown",
      "metadata": {
        "id": "DA5bktAVeBSB",
        "colab_type": "text"
      },
      "source": [
        "### B2. H5-index\n",
        "\n",
        "Another way to score and rank authors could be based on the quality of the conferences and journals where they publish their papers. For this task, you have to use the H5-index score from AMiner (https://aminer.org/ranks/conf) (another database of scholarly publications), which captures the quality of academic conferences: the higher the H5-index, the better the conference.\n",
        "1. Load the AMiner dataset ( *'aminer_ai.tsv'* available in the folder ``data/``), which contains H5-index values for AI conferences. Load it into a new Pandas dataframe, and join it with the author-centric DBLP dataframe.\n",
        "2. Calculate a *'new'* author ranking (give each author a score, by which the authors are then sorted in order to obtain the ranking), where each author's score is the sum of the H5-indices of all their papers (the H5-index of a paper being the H5-index of the conference it is published in).\n",
        "3. Analyze your new, H5-index-based author ranking and explain how and why your results are different from the previous ranking. Do you see any differences in the top-20 authors based on the H5-index-based ranking and the one produced using publication counts? If yes, list the authors that are ranked in the top 20 based on publication counts but absent in the top 20 based on the H5-index-based ranking. Identify the ranks of these authors in the ranking produced by the H5-index based ranking scheme.\n",
        "4. Now, take the authors in the file `data/list_of_selected_authors.txt`, and compute their rankings using the two (naïve and H5-index-based) ranking schemes. What do you observe? Explain the potential dangers of the naïve, paper-count-based score.\n",
        "5. On the flip side, do you see any potential dangers of using the H5-index-based score?   \n",
        "_Hint: Analyze the conferences in which the top ranked authors publish. Investigate the effect of the conferences in which these authors publish more frequently on the obtained ranking._"
      ]
    },
    {
      "cell_type": "markdown",
      "metadata": {
        "id": "CDxGTMjLeBSC",
        "colab_type": "text"
      },
      "source": [
        "***B2.1***"
      ]
    },
    {
      "cell_type": "code",
      "metadata": {
        "id": "ppW8i5FFeBSC",
        "colab_type": "code",
        "colab": {}
      },
      "source": [
        "aim= pd.read_csv('data/aminer_ai.csv', sep=\";\")\n",
        "aim['Short Name']= aim['Short Name'].str.lower()\n",
        "aim.rename(columns={'Short Name':'conference'}, inplace=True)\n",
        "aim=aim.iloc[:,[2,3]]"
      ],
      "execution_count": 0,
      "outputs": []
    },
    {
      "cell_type": "markdown",
      "metadata": {
        "id": "PDBIGF23HCNp",
        "colab_type": "text"
      },
      "source": [
        ""
      ]
    },
    {
      "cell_type": "code",
      "metadata": {
        "id": "5tSYtiWg8SZP",
        "colab_type": "code",
        "outputId": "c2746553-c014-402d-8b6c-c7815775292c",
        "colab": {
          "base_uri": "https://localhost:8080/",
          "height": 1000
        }
      },
      "source": [
        "indexed=dblp_authors.set_index('conference').join(aim.set_index('conference'));\n",
        "indexed"
      ],
      "execution_count": 0,
      "outputs": [
        {
          "output_type": "execute_result",
          "data": {
            "text/html": [
              "<div>\n",
              "<style scoped>\n",
              "    .dataframe tbody tr th:only-of-type {\n",
              "        vertical-align: middle;\n",
              "    }\n",
              "\n",
              "    .dataframe tbody tr th {\n",
              "        vertical-align: top;\n",
              "    }\n",
              "\n",
              "    .dataframe thead th {\n",
              "        text-align: right;\n",
              "    }\n",
              "</style>\n",
              "<table border=\"1\" class=\"dataframe\">\n",
              "  <thead>\n",
              "    <tr style=\"text-align: right;\">\n",
              "      <th></th>\n",
              "      <th>paper authors</th>\n",
              "      <th>paper id</th>\n",
              "      <th>paper title</th>\n",
              "      <th>paper year</th>\n",
              "      <th>H5-Index</th>\n",
              "    </tr>\n",
              "    <tr>\n",
              "      <th>conference</th>\n",
              "      <th></th>\n",
              "      <th></th>\n",
              "      <th></th>\n",
              "      <th></th>\n",
              "      <th></th>\n",
              "    </tr>\n",
              "  </thead>\n",
              "  <tbody>\n",
              "    <tr>\n",
              "      <th>aaai</th>\n",
              "      <td>Ofra Amir</td>\n",
              "      <td>conf/aaai/AmirSS15</td>\n",
              "      <td>Multi-Agent Pathfinding as a Combinatorial Auc...</td>\n",
              "      <td>2015</td>\n",
              "      <td>44</td>\n",
              "    </tr>\n",
              "    <tr>\n",
              "      <th>aaai</th>\n",
              "      <td>Guni Sharon</td>\n",
              "      <td>conf/aaai/AmirSS15</td>\n",
              "      <td>Multi-Agent Pathfinding as a Combinatorial Auc...</td>\n",
              "      <td>2015</td>\n",
              "      <td>44</td>\n",
              "    </tr>\n",
              "    <tr>\n",
              "      <th>aaai</th>\n",
              "      <td>Roni Stern</td>\n",
              "      <td>conf/aaai/AmirSS15</td>\n",
              "      <td>Multi-Agent Pathfinding as a Combinatorial Auc...</td>\n",
              "      <td>2015</td>\n",
              "      <td>44</td>\n",
              "    </tr>\n",
              "    <tr>\n",
              "      <th>aaai</th>\n",
              "      <td>Saadat Anwar</td>\n",
              "      <td>conf/aaai/AnwarB14</td>\n",
              "      <td>Pathway Specification and Comparative Queries:...</td>\n",
              "      <td>2014</td>\n",
              "      <td>44</td>\n",
              "    </tr>\n",
              "    <tr>\n",
              "      <th>aaai</th>\n",
              "      <td>Chitta Baral</td>\n",
              "      <td>conf/aaai/AnwarB14</td>\n",
              "      <td>Pathway Specification and Comparative Queries:...</td>\n",
              "      <td>2014</td>\n",
              "      <td>44</td>\n",
              "    </tr>\n",
              "    <tr>\n",
              "      <th>aaai</th>\n",
              "      <td>Ernest Davis</td>\n",
              "      <td>conf/aaai/Davis88</td>\n",
              "      <td>Inferring Ignorance from the Locality of Visua...</td>\n",
              "      <td>1988</td>\n",
              "      <td>44</td>\n",
              "    </tr>\n",
              "    <tr>\n",
              "      <th>aaai</th>\n",
              "      <td>Pranav Anand</td>\n",
              "      <td>conf/aaai/AnandKBWMOR11</td>\n",
              "      <td>Believe Me - We Can Do This! Annotating Persua...</td>\n",
              "      <td>2011</td>\n",
              "      <td>44</td>\n",
              "    </tr>\n",
              "    <tr>\n",
              "      <th>aaai</th>\n",
              "      <td>Joseph King</td>\n",
              "      <td>conf/aaai/AnandKBWMOR11</td>\n",
              "      <td>Believe Me - We Can Do This! Annotating Persua...</td>\n",
              "      <td>2011</td>\n",
              "      <td>44</td>\n",
              "    </tr>\n",
              "    <tr>\n",
              "      <th>aaai</th>\n",
              "      <td>Jordan L. Boyd-Graber</td>\n",
              "      <td>conf/aaai/AnandKBWMOR11</td>\n",
              "      <td>Believe Me - We Can Do This! Annotating Persua...</td>\n",
              "      <td>2011</td>\n",
              "      <td>44</td>\n",
              "    </tr>\n",
              "    <tr>\n",
              "      <th>aaai</th>\n",
              "      <td>Earl Wagner</td>\n",
              "      <td>conf/aaai/AnandKBWMOR11</td>\n",
              "      <td>Believe Me - We Can Do This! Annotating Persua...</td>\n",
              "      <td>2011</td>\n",
              "      <td>44</td>\n",
              "    </tr>\n",
              "    <tr>\n",
              "      <th>aaai</th>\n",
              "      <td>Craig H. Martell</td>\n",
              "      <td>conf/aaai/AnandKBWMOR11</td>\n",
              "      <td>Believe Me - We Can Do This! Annotating Persua...</td>\n",
              "      <td>2011</td>\n",
              "      <td>44</td>\n",
              "    </tr>\n",
              "    <tr>\n",
              "      <th>aaai</th>\n",
              "      <td>Douglas W. Oard</td>\n",
              "      <td>conf/aaai/AnandKBWMOR11</td>\n",
              "      <td>Believe Me - We Can Do This! Annotating Persua...</td>\n",
              "      <td>2011</td>\n",
              "      <td>44</td>\n",
              "    </tr>\n",
              "    <tr>\n",
              "      <th>aaai</th>\n",
              "      <td>Philip Resnik</td>\n",
              "      <td>conf/aaai/AnandKBWMOR11</td>\n",
              "      <td>Believe Me - We Can Do This! Annotating Persua...</td>\n",
              "      <td>2011</td>\n",
              "      <td>44</td>\n",
              "    </tr>\n",
              "    <tr>\n",
              "      <th>aaai</th>\n",
              "      <td>Tameem Adel</td>\n",
              "      <td>conf/aaai/AdelW15</td>\n",
              "      <td>A Probabilistic Covariate Shift Assumption for...</td>\n",
              "      <td>2015</td>\n",
              "      <td>44</td>\n",
              "    </tr>\n",
              "    <tr>\n",
              "      <th>aaai</th>\n",
              "      <td>Alexander Wong</td>\n",
              "      <td>conf/aaai/AdelW15</td>\n",
              "      <td>A Probabilistic Covariate Shift Assumption for...</td>\n",
              "      <td>2015</td>\n",
              "      <td>44</td>\n",
              "    </tr>\n",
              "    <tr>\n",
              "      <th>aaai</th>\n",
              "      <td>Patrick Dallaire</td>\n",
              "      <td>conf/aaai/DallaireGC14</td>\n",
              "      <td>Learning the Structure of Probabilistic Graphi...</td>\n",
              "      <td>2014</td>\n",
              "      <td>44</td>\n",
              "    </tr>\n",
              "    <tr>\n",
              "      <th>aaai</th>\n",
              "      <td>Philippe Giguère</td>\n",
              "      <td>conf/aaai/DallaireGC14</td>\n",
              "      <td>Learning the Structure of Probabilistic Graphi...</td>\n",
              "      <td>2014</td>\n",
              "      <td>44</td>\n",
              "    </tr>\n",
              "    <tr>\n",
              "      <th>aaai</th>\n",
              "      <td>Brahim Chaib-draa</td>\n",
              "      <td>conf/aaai/DallaireGC14</td>\n",
              "      <td>Learning the Structure of Probabilistic Graphi...</td>\n",
              "      <td>2014</td>\n",
              "      <td>44</td>\n",
              "    </tr>\n",
              "    <tr>\n",
              "      <th>aaai</th>\n",
              "      <td>John W. Lawson</td>\n",
              "      <td>conf/aaai/LawsonW02</td>\n",
              "      <td>The Design of Collectives of Agents to Control...</td>\n",
              "      <td>2002</td>\n",
              "      <td>44</td>\n",
              "    </tr>\n",
              "    <tr>\n",
              "      <th>aaai</th>\n",
              "      <td>David H. Wolpert</td>\n",
              "      <td>conf/aaai/LawsonW02</td>\n",
              "      <td>The Design of Collectives of Agents to Control...</td>\n",
              "      <td>2002</td>\n",
              "      <td>44</td>\n",
              "    </tr>\n",
              "    <tr>\n",
              "      <th>aaai</th>\n",
              "      <td>Claire Cardie</td>\n",
              "      <td>conf/aaai/Cardie92</td>\n",
              "      <td>Learning to Disambiguate Relative Pronouns.</td>\n",
              "      <td>1992</td>\n",
              "      <td>44</td>\n",
              "    </tr>\n",
              "    <tr>\n",
              "      <th>aaai</th>\n",
              "      <td>David Silberberg</td>\n",
              "      <td>conf/aaai/SilberbergT96</td>\n",
              "      <td>The NASA Personnel Security Processing Expert ...</td>\n",
              "      <td>1996</td>\n",
              "      <td>44</td>\n",
              "    </tr>\n",
              "    <tr>\n",
              "      <th>aaai</th>\n",
              "      <td>Robert Thomas</td>\n",
              "      <td>conf/aaai/SilberbergT96</td>\n",
              "      <td>The NASA Personnel Security Processing Expert ...</td>\n",
              "      <td>1996</td>\n",
              "      <td>44</td>\n",
              "    </tr>\n",
              "    <tr>\n",
              "      <th>aaai</th>\n",
              "      <td>Daniel Martin</td>\n",
              "      <td>conf/aaai/MartinDWSBLPLTX16</td>\n",
              "      <td>An Image Analysis Environment for Species Iden...</td>\n",
              "      <td>2016</td>\n",
              "      <td>44</td>\n",
              "    </tr>\n",
              "    <tr>\n",
              "      <th>aaai</th>\n",
              "      <td>Hongjian Ding</td>\n",
              "      <td>conf/aaai/MartinDWSBLPLTX16</td>\n",
              "      <td>An Image Analysis Environment for Species Iden...</td>\n",
              "      <td>2016</td>\n",
              "      <td>44</td>\n",
              "    </tr>\n",
              "    <tr>\n",
              "      <th>aaai</th>\n",
              "      <td>Leihong Wu</td>\n",
              "      <td>conf/aaai/MartinDWSBLPLTX16</td>\n",
              "      <td>An Image Analysis Environment for Species Iden...</td>\n",
              "      <td>2016</td>\n",
              "      <td>44</td>\n",
              "    </tr>\n",
              "    <tr>\n",
              "      <th>aaai</th>\n",
              "      <td>Howard Semey</td>\n",
              "      <td>conf/aaai/MartinDWSBLPLTX16</td>\n",
              "      <td>An Image Analysis Environment for Species Iden...</td>\n",
              "      <td>2016</td>\n",
              "      <td>44</td>\n",
              "    </tr>\n",
              "    <tr>\n",
              "      <th>aaai</th>\n",
              "      <td>Amy Barnes</td>\n",
              "      <td>conf/aaai/MartinDWSBLPLTX16</td>\n",
              "      <td>An Image Analysis Environment for Species Iden...</td>\n",
              "      <td>2016</td>\n",
              "      <td>44</td>\n",
              "    </tr>\n",
              "    <tr>\n",
              "      <th>aaai</th>\n",
              "      <td>Darryl Langley</td>\n",
              "      <td>conf/aaai/MartinDWSBLPLTX16</td>\n",
              "      <td>An Image Analysis Environment for Species Iden...</td>\n",
              "      <td>2016</td>\n",
              "      <td>44</td>\n",
              "    </tr>\n",
              "    <tr>\n",
              "      <th>aaai</th>\n",
              "      <td>Su Inn Park</td>\n",
              "      <td>conf/aaai/MartinDWSBLPLTX16</td>\n",
              "      <td>An Image Analysis Environment for Species Iden...</td>\n",
              "      <td>2016</td>\n",
              "      <td>44</td>\n",
              "    </tr>\n",
              "    <tr>\n",
              "      <th>...</th>\n",
              "      <td>...</td>\n",
              "      <td>...</td>\n",
              "      <td>...</td>\n",
              "      <td>...</td>\n",
              "      <td>...</td>\n",
              "    </tr>\n",
              "    <tr>\n",
              "      <th>pricai</th>\n",
              "      <td>Mariusz Nowostawski</td>\n",
              "      <td>conf/pricai/PurvisNCO04</td>\n",
              "      <td>Multi-agent Interaction Technology for Peer-to...</td>\n",
              "      <td>2004</td>\n",
              "      <td>8</td>\n",
              "    </tr>\n",
              "    <tr>\n",
              "      <th>pricai</th>\n",
              "      <td>Stephen Cranefield</td>\n",
              "      <td>conf/pricai/PurvisNCO04</td>\n",
              "      <td>Multi-agent Interaction Technology for Peer-to...</td>\n",
              "      <td>2004</td>\n",
              "      <td>8</td>\n",
              "    </tr>\n",
              "    <tr>\n",
              "      <th>pricai</th>\n",
              "      <td>Marcos De Oliveira</td>\n",
              "      <td>conf/pricai/PurvisNCO04</td>\n",
              "      <td>Multi-agent Interaction Technology for Peer-to...</td>\n",
              "      <td>2004</td>\n",
              "      <td>8</td>\n",
              "    </tr>\n",
              "    <tr>\n",
              "      <th>pricai</th>\n",
              "      <td>Yuki Matsui</td>\n",
              "      <td>conf/pricai/MatsuiKKI08</td>\n",
              "      <td>Generating Interactive Facial Expression of Co...</td>\n",
              "      <td>2008</td>\n",
              "      <td>8</td>\n",
              "    </tr>\n",
              "    <tr>\n",
              "      <th>pricai</th>\n",
              "      <td>Masayoshi Kanoh</td>\n",
              "      <td>conf/pricai/MatsuiKKI08</td>\n",
              "      <td>Generating Interactive Facial Expression of Co...</td>\n",
              "      <td>2008</td>\n",
              "      <td>8</td>\n",
              "    </tr>\n",
              "    <tr>\n",
              "      <th>pricai</th>\n",
              "      <td>Shohei Kato</td>\n",
              "      <td>conf/pricai/MatsuiKKI08</td>\n",
              "      <td>Generating Interactive Facial Expression of Co...</td>\n",
              "      <td>2008</td>\n",
              "      <td>8</td>\n",
              "    </tr>\n",
              "    <tr>\n",
              "      <th>pricai</th>\n",
              "      <td>Hidenori Itoh</td>\n",
              "      <td>conf/pricai/MatsuiKKI08</td>\n",
              "      <td>Generating Interactive Facial Expression of Co...</td>\n",
              "      <td>2008</td>\n",
              "      <td>8</td>\n",
              "    </tr>\n",
              "    <tr>\n",
              "      <th>pricai</th>\n",
              "      <td>Maria Schuld</td>\n",
              "      <td>conf/pricai/SchuldSP14</td>\n",
              "      <td>Quantum Computing for Pattern Classification.</td>\n",
              "      <td>2014</td>\n",
              "      <td>8</td>\n",
              "    </tr>\n",
              "    <tr>\n",
              "      <th>pricai</th>\n",
              "      <td>Ilya Sinayskiy</td>\n",
              "      <td>conf/pricai/SchuldSP14</td>\n",
              "      <td>Quantum Computing for Pattern Classification.</td>\n",
              "      <td>2014</td>\n",
              "      <td>8</td>\n",
              "    </tr>\n",
              "    <tr>\n",
              "      <th>pricai</th>\n",
              "      <td>Francesco Petruccione</td>\n",
              "      <td>conf/pricai/SchuldSP14</td>\n",
              "      <td>Quantum Computing for Pattern Classification.</td>\n",
              "      <td>2014</td>\n",
              "      <td>8</td>\n",
              "    </tr>\n",
              "    <tr>\n",
              "      <th>pricai</th>\n",
              "      <td>Asim Karim</td>\n",
              "      <td>conf/pricai/KarimJASU04</td>\n",
              "      <td>Clustering IP Addresses Using Longest Prefix M...</td>\n",
              "      <td>2004</td>\n",
              "      <td>8</td>\n",
              "    </tr>\n",
              "    <tr>\n",
              "      <th>pricai</th>\n",
              "      <td>Syed Imran Jami</td>\n",
              "      <td>conf/pricai/KarimJASU04</td>\n",
              "      <td>Clustering IP Addresses Using Longest Prefix M...</td>\n",
              "      <td>2004</td>\n",
              "      <td>8</td>\n",
              "    </tr>\n",
              "    <tr>\n",
              "      <th>pricai</th>\n",
              "      <td>Irfan Ahmad</td>\n",
              "      <td>conf/pricai/KarimJASU04</td>\n",
              "      <td>Clustering IP Addresses Using Longest Prefix M...</td>\n",
              "      <td>2004</td>\n",
              "      <td>8</td>\n",
              "    </tr>\n",
              "    <tr>\n",
              "      <th>pricai</th>\n",
              "      <td>S. Mansoor Sarwar</td>\n",
              "      <td>conf/pricai/KarimJASU04</td>\n",
              "      <td>Clustering IP Addresses Using Longest Prefix M...</td>\n",
              "      <td>2004</td>\n",
              "      <td>8</td>\n",
              "    </tr>\n",
              "    <tr>\n",
              "      <th>pricai</th>\n",
              "      <td>Zartash Afzal Uzmi</td>\n",
              "      <td>conf/pricai/KarimJASU04</td>\n",
              "      <td>Clustering IP Addresses Using Longest Prefix M...</td>\n",
              "      <td>2004</td>\n",
              "      <td>8</td>\n",
              "    </tr>\n",
              "    <tr>\n",
              "      <th>pricai</th>\n",
              "      <td>Woong-Jae Won</td>\n",
              "      <td>conf/pricai/WonLBKPL10</td>\n",
              "      <td>Human Augmented Cognition Based on Integration...</td>\n",
              "      <td>2010</td>\n",
              "      <td>8</td>\n",
              "    </tr>\n",
              "    <tr>\n",
              "      <th>pricai</th>\n",
              "      <td>Wono Lee</td>\n",
              "      <td>conf/pricai/WonLBKPL10</td>\n",
              "      <td>Human Augmented Cognition Based on Integration...</td>\n",
              "      <td>2010</td>\n",
              "      <td>8</td>\n",
              "    </tr>\n",
              "    <tr>\n",
              "      <th>pricai</th>\n",
              "      <td>Sang-Woo Ban</td>\n",
              "      <td>conf/pricai/WonLBKPL10</td>\n",
              "      <td>Human Augmented Cognition Based on Integration...</td>\n",
              "      <td>2010</td>\n",
              "      <td>8</td>\n",
              "    </tr>\n",
              "    <tr>\n",
              "      <th>pricai</th>\n",
              "      <td>Minook Kim</td>\n",
              "      <td>conf/pricai/WonLBKPL10</td>\n",
              "      <td>Human Augmented Cognition Based on Integration...</td>\n",
              "      <td>2010</td>\n",
              "      <td>8</td>\n",
              "    </tr>\n",
              "    <tr>\n",
              "      <th>pricai</th>\n",
              "      <td>Hyung-Min Park</td>\n",
              "      <td>conf/pricai/WonLBKPL10</td>\n",
              "      <td>Human Augmented Cognition Based on Integration...</td>\n",
              "      <td>2010</td>\n",
              "      <td>8</td>\n",
              "    </tr>\n",
              "    <tr>\n",
              "      <th>pricai</th>\n",
              "      <td>Minho Lee</td>\n",
              "      <td>conf/pricai/WonLBKPL10</td>\n",
              "      <td>Human Augmented Cognition Based on Integration...</td>\n",
              "      <td>2010</td>\n",
              "      <td>8</td>\n",
              "    </tr>\n",
              "    <tr>\n",
              "      <th>pricai</th>\n",
              "      <td>Patrick Pantel</td>\n",
              "      <td>conf/pricai/PantelL02</td>\n",
              "      <td>Efficiently Clustering Documents with Committees.</td>\n",
              "      <td>2002</td>\n",
              "      <td>8</td>\n",
              "    </tr>\n",
              "    <tr>\n",
              "      <th>pricai</th>\n",
              "      <td>Dekang Lin</td>\n",
              "      <td>conf/pricai/PantelL02</td>\n",
              "      <td>Efficiently Clustering Documents with Committees.</td>\n",
              "      <td>2002</td>\n",
              "      <td>8</td>\n",
              "    </tr>\n",
              "    <tr>\n",
              "      <th>pricai</th>\n",
              "      <td>Liwei Huang</td>\n",
              "      <td>conf/pricai/HuangQFD18</td>\n",
              "      <td>Reinforcement Learning for Mobile Robot Obstac...</td>\n",
              "      <td>2018</td>\n",
              "      <td>8</td>\n",
              "    </tr>\n",
              "    <tr>\n",
              "      <th>pricai</th>\n",
              "      <td>Hong Qu</td>\n",
              "      <td>conf/pricai/HuangQFD18</td>\n",
              "      <td>Reinforcement Learning for Mobile Robot Obstac...</td>\n",
              "      <td>2018</td>\n",
              "      <td>8</td>\n",
              "    </tr>\n",
              "    <tr>\n",
              "      <th>pricai</th>\n",
              "      <td>Mingsheng Fu</td>\n",
              "      <td>conf/pricai/HuangQFD18</td>\n",
              "      <td>Reinforcement Learning for Mobile Robot Obstac...</td>\n",
              "      <td>2018</td>\n",
              "      <td>8</td>\n",
              "    </tr>\n",
              "    <tr>\n",
              "      <th>pricai</th>\n",
              "      <td>Wu Deng</td>\n",
              "      <td>conf/pricai/HuangQFD18</td>\n",
              "      <td>Reinforcement Learning for Mobile Robot Obstac...</td>\n",
              "      <td>2018</td>\n",
              "      <td>8</td>\n",
              "    </tr>\n",
              "    <tr>\n",
              "      <th>pricai</th>\n",
              "      <td>Abdullah-Al Amin</td>\n",
              "      <td>conf/pricai/AminWH00</td>\n",
              "      <td>Agent-Oriented Programming in Linear Logic: An...</td>\n",
              "      <td>2000</td>\n",
              "      <td>8</td>\n",
              "    </tr>\n",
              "    <tr>\n",
              "      <th>pricai</th>\n",
              "      <td>Michael Winikoff</td>\n",
              "      <td>conf/pricai/AminWH00</td>\n",
              "      <td>Agent-Oriented Programming in Linear Logic: An...</td>\n",
              "      <td>2000</td>\n",
              "      <td>8</td>\n",
              "    </tr>\n",
              "    <tr>\n",
              "      <th>pricai</th>\n",
              "      <td>James Harland</td>\n",
              "      <td>conf/pricai/AminWH00</td>\n",
              "      <td>Agent-Oriented Programming in Linear Logic: An...</td>\n",
              "      <td>2000</td>\n",
              "      <td>8</td>\n",
              "    </tr>\n",
              "  </tbody>\n",
              "</table>\n",
              "<p>312903 rows × 5 columns</p>\n",
              "</div>"
            ],
            "text/plain": [
              "                     paper authors  ... H5-Index\n",
              "conference                          ...         \n",
              "aaai                     Ofra Amir  ...       44\n",
              "aaai                   Guni Sharon  ...       44\n",
              "aaai                    Roni Stern  ...       44\n",
              "aaai                  Saadat Anwar  ...       44\n",
              "aaai                  Chitta Baral  ...       44\n",
              "aaai                  Ernest Davis  ...       44\n",
              "aaai                  Pranav Anand  ...       44\n",
              "aaai                   Joseph King  ...       44\n",
              "aaai         Jordan L. Boyd-Graber  ...       44\n",
              "aaai                   Earl Wagner  ...       44\n",
              "aaai              Craig H. Martell  ...       44\n",
              "aaai               Douglas W. Oard  ...       44\n",
              "aaai                 Philip Resnik  ...       44\n",
              "aaai                   Tameem Adel  ...       44\n",
              "aaai                Alexander Wong  ...       44\n",
              "aaai              Patrick Dallaire  ...       44\n",
              "aaai              Philippe Giguère  ...       44\n",
              "aaai             Brahim Chaib-draa  ...       44\n",
              "aaai                John W. Lawson  ...       44\n",
              "aaai              David H. Wolpert  ...       44\n",
              "aaai                 Claire Cardie  ...       44\n",
              "aaai              David Silberberg  ...       44\n",
              "aaai                 Robert Thomas  ...       44\n",
              "aaai                 Daniel Martin  ...       44\n",
              "aaai                 Hongjian Ding  ...       44\n",
              "aaai                    Leihong Wu  ...       44\n",
              "aaai                  Howard Semey  ...       44\n",
              "aaai                    Amy Barnes  ...       44\n",
              "aaai                Darryl Langley  ...       44\n",
              "aaai                   Su Inn Park  ...       44\n",
              "...                            ...  ...      ...\n",
              "pricai         Mariusz Nowostawski  ...        8\n",
              "pricai          Stephen Cranefield  ...        8\n",
              "pricai          Marcos De Oliveira  ...        8\n",
              "pricai                 Yuki Matsui  ...        8\n",
              "pricai             Masayoshi Kanoh  ...        8\n",
              "pricai                 Shohei Kato  ...        8\n",
              "pricai               Hidenori Itoh  ...        8\n",
              "pricai                Maria Schuld  ...        8\n",
              "pricai              Ilya Sinayskiy  ...        8\n",
              "pricai       Francesco Petruccione  ...        8\n",
              "pricai                  Asim Karim  ...        8\n",
              "pricai             Syed Imran Jami  ...        8\n",
              "pricai                 Irfan Ahmad  ...        8\n",
              "pricai           S. Mansoor Sarwar  ...        8\n",
              "pricai          Zartash Afzal Uzmi  ...        8\n",
              "pricai               Woong-Jae Won  ...        8\n",
              "pricai                    Wono Lee  ...        8\n",
              "pricai                Sang-Woo Ban  ...        8\n",
              "pricai                  Minook Kim  ...        8\n",
              "pricai              Hyung-Min Park  ...        8\n",
              "pricai                   Minho Lee  ...        8\n",
              "pricai              Patrick Pantel  ...        8\n",
              "pricai                  Dekang Lin  ...        8\n",
              "pricai                 Liwei Huang  ...        8\n",
              "pricai                     Hong Qu  ...        8\n",
              "pricai                Mingsheng Fu  ...        8\n",
              "pricai                     Wu Deng  ...        8\n",
              "pricai            Abdullah-Al Amin  ...        8\n",
              "pricai            Michael Winikoff  ...        8\n",
              "pricai               James Harland  ...        8\n",
              "\n",
              "[312903 rows x 5 columns]"
            ]
          },
          "metadata": {
            "tags": []
          },
          "execution_count": 174
        }
      ]
    },
    {
      "cell_type": "markdown",
      "metadata": {
        "id": "G8F2jxzReBSF",
        "colab_type": "text"
      },
      "source": [
        "***B2.2***"
      ]
    },
    {
      "cell_type": "code",
      "metadata": {
        "id": "ogFO4w3CeBSG",
        "colab_type": "code",
        "colab": {}
      },
      "source": [
        "grouped = indexed.groupby('paper authors')\n",
        "rk2=indexed.iloc[:,[2,4]]\n"
      ],
      "execution_count": 0,
      "outputs": []
    },
    {
      "cell_type": "code",
      "metadata": {
        "id": "cntHZY0VDsuT",
        "colab_type": "code",
        "outputId": "2332c5b3-d9db-4136-b0d6-0ce66d5eab7c",
        "colab": {
          "base_uri": "https://localhost:8080/",
          "height": 1000
        }
      },
      "source": [
        "rk2= indexed.groupby(['paper authors'],as_index=False).agg({'H5-Index': 'sum'})\n",
        "rk2=rk2.sort_values(by='H5-Index', ascending= False).reset_index(drop=True)\n",
        "rk2"
      ],
      "execution_count": 0,
      "outputs": [
        {
          "output_type": "execute_result",
          "data": {
            "text/html": [
              "<div>\n",
              "<style scoped>\n",
              "    .dataframe tbody tr th:only-of-type {\n",
              "        vertical-align: middle;\n",
              "    }\n",
              "\n",
              "    .dataframe tbody tr th {\n",
              "        vertical-align: top;\n",
              "    }\n",
              "\n",
              "    .dataframe thead th {\n",
              "        text-align: right;\n",
              "    }\n",
              "</style>\n",
              "<table border=\"1\" class=\"dataframe\">\n",
              "  <thead>\n",
              "    <tr style=\"text-align: right;\">\n",
              "      <th></th>\n",
              "      <th>paper authors</th>\n",
              "      <th>H5-Index</th>\n",
              "    </tr>\n",
              "  </thead>\n",
              "  <tbody>\n",
              "    <tr>\n",
              "      <th>0</th>\n",
              "      <td>Sheila A. McIlraith</td>\n",
              "      <td>40076</td>\n",
              "    </tr>\n",
              "    <tr>\n",
              "      <th>1</th>\n",
              "      <td>Satinder P. Singh (ed.)</td>\n",
              "      <td>29084</td>\n",
              "    </tr>\n",
              "    <tr>\n",
              "      <th>2</th>\n",
              "      <td>Luc Van Gool</td>\n",
              "      <td>18355</td>\n",
              "    </tr>\n",
              "    <tr>\n",
              "      <th>3</th>\n",
              "      <td>Thomas S. Huang</td>\n",
              "      <td>14042</td>\n",
              "    </tr>\n",
              "    <tr>\n",
              "      <th>4</th>\n",
              "      <td>Xiaoou Tang</td>\n",
              "      <td>13019</td>\n",
              "    </tr>\n",
              "    <tr>\n",
              "      <th>5</th>\n",
              "      <td>Shuicheng Yan</td>\n",
              "      <td>11660</td>\n",
              "    </tr>\n",
              "    <tr>\n",
              "      <th>6</th>\n",
              "      <td>Trevor Darrell</td>\n",
              "      <td>11495</td>\n",
              "    </tr>\n",
              "    <tr>\n",
              "      <th>7</th>\n",
              "      <td>Larry S. Davis</td>\n",
              "      <td>11131</td>\n",
              "    </tr>\n",
              "    <tr>\n",
              "      <th>8</th>\n",
              "      <td>Marc Pollefeys</td>\n",
              "      <td>10911</td>\n",
              "    </tr>\n",
              "    <tr>\n",
              "      <th>9</th>\n",
              "      <td>Martial Hebert</td>\n",
              "      <td>10227</td>\n",
              "    </tr>\n",
              "    <tr>\n",
              "      <th>10</th>\n",
              "      <td>Takeo Kanade</td>\n",
              "      <td>10216</td>\n",
              "    </tr>\n",
              "    <tr>\n",
              "      <th>11</th>\n",
              "      <td>Mubarak Shah</td>\n",
              "      <td>10112</td>\n",
              "    </tr>\n",
              "    <tr>\n",
              "      <th>12</th>\n",
              "      <td>Andrew Zisserman</td>\n",
              "      <td>9838</td>\n",
              "    </tr>\n",
              "    <tr>\n",
              "      <th>13</th>\n",
              "      <td>Pascal Fua</td>\n",
              "      <td>9830</td>\n",
              "    </tr>\n",
              "    <tr>\n",
              "      <th>14</th>\n",
              "      <td>Ming-Hsuan Yang 0001</td>\n",
              "      <td>9745</td>\n",
              "    </tr>\n",
              "    <tr>\n",
              "      <th>15</th>\n",
              "      <td>Jitendra Malik</td>\n",
              "      <td>9621</td>\n",
              "    </tr>\n",
              "    <tr>\n",
              "      <th>16</th>\n",
              "      <td>Toshio Fukuda</td>\n",
              "      <td>9454</td>\n",
              "    </tr>\n",
              "    <tr>\n",
              "      <th>17</th>\n",
              "      <td>Xiaogang Wang</td>\n",
              "      <td>9280</td>\n",
              "    </tr>\n",
              "    <tr>\n",
              "      <th>18</th>\n",
              "      <td>Bernt Schiele</td>\n",
              "      <td>9098</td>\n",
              "    </tr>\n",
              "    <tr>\n",
              "      <th>19</th>\n",
              "      <td>Rama Chellappa</td>\n",
              "      <td>8868</td>\n",
              "    </tr>\n",
              "    <tr>\n",
              "      <th>20</th>\n",
              "      <td>Michael I. Jordan</td>\n",
              "      <td>8569</td>\n",
              "    </tr>\n",
              "    <tr>\n",
              "      <th>21</th>\n",
              "      <td>Alan L. Yuille</td>\n",
              "      <td>8507</td>\n",
              "    </tr>\n",
              "    <tr>\n",
              "      <th>22</th>\n",
              "      <td>Vijay Kumar 0001</td>\n",
              "      <td>8218</td>\n",
              "    </tr>\n",
              "    <tr>\n",
              "      <th>23</th>\n",
              "      <td>Pietro Perona</td>\n",
              "      <td>8214</td>\n",
              "    </tr>\n",
              "    <tr>\n",
              "      <th>24</th>\n",
              "      <td>Roland Siegwart</td>\n",
              "      <td>8111</td>\n",
              "    </tr>\n",
              "    <tr>\n",
              "      <th>25</th>\n",
              "      <td>Horst Bischof</td>\n",
              "      <td>8024</td>\n",
              "    </tr>\n",
              "    <tr>\n",
              "      <th>26</th>\n",
              "      <td>Cordelia Schmid</td>\n",
              "      <td>8000</td>\n",
              "    </tr>\n",
              "    <tr>\n",
              "      <th>27</th>\n",
              "      <td>Raquel Urtasun</td>\n",
              "      <td>7980</td>\n",
              "    </tr>\n",
              "    <tr>\n",
              "      <th>28</th>\n",
              "      <td>Wolfram Burgard</td>\n",
              "      <td>7642</td>\n",
              "    </tr>\n",
              "    <tr>\n",
              "      <th>29</th>\n",
              "      <td>Gérard G. Medioni</td>\n",
              "      <td>7565</td>\n",
              "    </tr>\n",
              "    <tr>\n",
              "      <th>...</th>\n",
              "      <td>...</td>\n",
              "      <td>...</td>\n",
              "    </tr>\n",
              "    <tr>\n",
              "      <th>129528</th>\n",
              "      <td>Marten den Uyl</td>\n",
              "      <td>1</td>\n",
              "    </tr>\n",
              "    <tr>\n",
              "      <th>129529</th>\n",
              "      <td>Eric Petajan</td>\n",
              "      <td>1</td>\n",
              "    </tr>\n",
              "    <tr>\n",
              "      <th>129530</th>\n",
              "      <td>Matthew Chasse</td>\n",
              "      <td>1</td>\n",
              "    </tr>\n",
              "    <tr>\n",
              "      <th>129531</th>\n",
              "      <td>Valentino Zurloni</td>\n",
              "      <td>1</td>\n",
              "    </tr>\n",
              "    <tr>\n",
              "      <th>129532</th>\n",
              "      <td>Takafumi Ito</td>\n",
              "      <td>1</td>\n",
              "    </tr>\n",
              "    <tr>\n",
              "      <th>129533</th>\n",
              "      <td>Astha Singhal</td>\n",
              "      <td>1</td>\n",
              "    </tr>\n",
              "    <tr>\n",
              "      <th>129534</th>\n",
              "      <td>Martin Inderbitzin</td>\n",
              "      <td>1</td>\n",
              "    </tr>\n",
              "    <tr>\n",
              "      <th>129535</th>\n",
              "      <td>Gururaj Mulay</td>\n",
              "      <td>1</td>\n",
              "    </tr>\n",
              "    <tr>\n",
              "      <th>129536</th>\n",
              "      <td>Yuichi Onuma</td>\n",
              "      <td>1</td>\n",
              "    </tr>\n",
              "    <tr>\n",
              "      <th>129537</th>\n",
              "      <td>Syunsuke Otake</td>\n",
              "      <td>1</td>\n",
              "    </tr>\n",
              "    <tr>\n",
              "      <th>129538</th>\n",
              "      <td>Christoph Mayer 0001</td>\n",
              "      <td>1</td>\n",
              "    </tr>\n",
              "    <tr>\n",
              "      <th>129539</th>\n",
              "      <td>Martin Savc</td>\n",
              "      <td>1</td>\n",
              "    </tr>\n",
              "    <tr>\n",
              "      <th>129540</th>\n",
              "      <td>P. Ravindra De Silva</td>\n",
              "      <td>1</td>\n",
              "    </tr>\n",
              "    <tr>\n",
              "      <th>129541</th>\n",
              "      <td>Mikko Tulppo</td>\n",
              "      <td>1</td>\n",
              "    </tr>\n",
              "    <tr>\n",
              "      <th>129542</th>\n",
              "      <td>Lei Gao</td>\n",
              "      <td>1</td>\n",
              "    </tr>\n",
              "    <tr>\n",
              "      <th>129543</th>\n",
              "      <td>Deepak Vasisht</td>\n",
              "      <td>1</td>\n",
              "    </tr>\n",
              "    <tr>\n",
              "      <th>129544</th>\n",
              "      <td>Ju-Young Lee</td>\n",
              "      <td>1</td>\n",
              "    </tr>\n",
              "    <tr>\n",
              "      <th>129545</th>\n",
              "      <td>Laurent Son Nguyen</td>\n",
              "      <td>1</td>\n",
              "    </tr>\n",
              "    <tr>\n",
              "      <th>129546</th>\n",
              "      <td>Carlos Hitoshi Morimoto</td>\n",
              "      <td>1</td>\n",
              "    </tr>\n",
              "    <tr>\n",
              "      <th>129547</th>\n",
              "      <td>Tuoerhongjiang Yusufu</td>\n",
              "      <td>1</td>\n",
              "    </tr>\n",
              "    <tr>\n",
              "      <th>129548</th>\n",
              "      <td>Jesus Nuevo Chiquero</td>\n",
              "      <td>1</td>\n",
              "    </tr>\n",
              "    <tr>\n",
              "      <th>129549</th>\n",
              "      <td>Adria Ruiz</td>\n",
              "      <td>1</td>\n",
              "    </tr>\n",
              "    <tr>\n",
              "      <th>129550</th>\n",
              "      <td>Juan Abdon Miranda Correa</td>\n",
              "      <td>1</td>\n",
              "    </tr>\n",
              "    <tr>\n",
              "      <th>129551</th>\n",
              "      <td>Mark ter Maat</td>\n",
              "      <td>1</td>\n",
              "    </tr>\n",
              "    <tr>\n",
              "      <th>129552</th>\n",
              "      <td>Adrian A. Low</td>\n",
              "      <td>1</td>\n",
              "    </tr>\n",
              "    <tr>\n",
              "      <th>129553</th>\n",
              "      <td>Takahiro Watanabe</td>\n",
              "      <td>1</td>\n",
              "    </tr>\n",
              "    <tr>\n",
              "      <th>129554</th>\n",
              "      <td>Takahiro Tsuda</td>\n",
              "      <td>1</td>\n",
              "    </tr>\n",
              "    <tr>\n",
              "      <th>129555</th>\n",
              "      <td>Laurent Collot</td>\n",
              "      <td>1</td>\n",
              "    </tr>\n",
              "    <tr>\n",
              "      <th>129556</th>\n",
              "      <td>Guozhu Peng</td>\n",
              "      <td>1</td>\n",
              "    </tr>\n",
              "    <tr>\n",
              "      <th>129557</th>\n",
              "      <td>Nam-Kyu Kim</td>\n",
              "      <td>1</td>\n",
              "    </tr>\n",
              "  </tbody>\n",
              "</table>\n",
              "<p>129558 rows × 2 columns</p>\n",
              "</div>"
            ],
            "text/plain": [
              "                     paper authors  H5-Index\n",
              "0              Sheila A. McIlraith     40076\n",
              "1          Satinder P. Singh (ed.)     29084\n",
              "2                     Luc Van Gool     18355\n",
              "3                  Thomas S. Huang     14042\n",
              "4                      Xiaoou Tang     13019\n",
              "5                    Shuicheng Yan     11660\n",
              "6                   Trevor Darrell     11495\n",
              "7                   Larry S. Davis     11131\n",
              "8                   Marc Pollefeys     10911\n",
              "9                   Martial Hebert     10227\n",
              "10                    Takeo Kanade     10216\n",
              "11                    Mubarak Shah     10112\n",
              "12                Andrew Zisserman      9838\n",
              "13                      Pascal Fua      9830\n",
              "14            Ming-Hsuan Yang 0001      9745\n",
              "15                  Jitendra Malik      9621\n",
              "16                   Toshio Fukuda      9454\n",
              "17                   Xiaogang Wang      9280\n",
              "18                   Bernt Schiele      9098\n",
              "19                  Rama Chellappa      8868\n",
              "20               Michael I. Jordan      8569\n",
              "21                  Alan L. Yuille      8507\n",
              "22                Vijay Kumar 0001      8218\n",
              "23                   Pietro Perona      8214\n",
              "24                 Roland Siegwart      8111\n",
              "25                   Horst Bischof      8024\n",
              "26                 Cordelia Schmid      8000\n",
              "27                  Raquel Urtasun      7980\n",
              "28                 Wolfram Burgard      7642\n",
              "29               Gérard G. Medioni      7565\n",
              "...                            ...       ...\n",
              "129528              Marten den Uyl         1\n",
              "129529                Eric Petajan         1\n",
              "129530              Matthew Chasse         1\n",
              "129531           Valentino Zurloni         1\n",
              "129532                Takafumi Ito         1\n",
              "129533               Astha Singhal         1\n",
              "129534          Martin Inderbitzin         1\n",
              "129535               Gururaj Mulay         1\n",
              "129536                Yuichi Onuma         1\n",
              "129537              Syunsuke Otake         1\n",
              "129538        Christoph Mayer 0001         1\n",
              "129539                 Martin Savc         1\n",
              "129540        P. Ravindra De Silva         1\n",
              "129541                Mikko Tulppo         1\n",
              "129542                     Lei Gao         1\n",
              "129543              Deepak Vasisht         1\n",
              "129544                Ju-Young Lee         1\n",
              "129545          Laurent Son Nguyen         1\n",
              "129546     Carlos Hitoshi Morimoto         1\n",
              "129547       Tuoerhongjiang Yusufu         1\n",
              "129548        Jesus Nuevo Chiquero         1\n",
              "129549                  Adria Ruiz         1\n",
              "129550   Juan Abdon Miranda Correa         1\n",
              "129551               Mark ter Maat         1\n",
              "129552               Adrian A. Low         1\n",
              "129553           Takahiro Watanabe         1\n",
              "129554              Takahiro Tsuda         1\n",
              "129555              Laurent Collot         1\n",
              "129556                 Guozhu Peng         1\n",
              "129557                 Nam-Kyu Kim         1\n",
              "\n",
              "[129558 rows x 2 columns]"
            ]
          },
          "metadata": {
            "tags": []
          },
          "execution_count": 206
        }
      ]
    },
    {
      "cell_type": "markdown",
      "metadata": {
        "id": "aDifZ5NzeBSJ",
        "colab_type": "text"
      },
      "source": [
        "***B2.3***"
      ]
    },
    {
      "cell_type": "code",
      "metadata": {
        "id": "C8sFWkPGeBSL",
        "colab_type": "code",
        "colab": {}
      },
      "source": [
        "tprk=rk[:20]\n",
        "tprk2=rk2[:20]"
      ],
      "execution_count": 0,
      "outputs": []
    },
    {
      "cell_type": "code",
      "metadata": {
        "id": "_qNK-ZvlRPMd",
        "colab_type": "code",
        "outputId": "44583889-2ac1-42d5-ae53-c846ace53566",
        "colab": {
          "base_uri": "https://localhost:8080/",
          "height": 35
        }
      },
      "source": [
        "tprk.equals(tprk2)"
      ],
      "execution_count": 0,
      "outputs": [
        {
          "output_type": "execute_result",
          "data": {
            "text/plain": [
              "False"
            ]
          },
          "metadata": {
            "tags": []
          },
          "execution_count": 229
        }
      ]
    },
    {
      "cell_type": "code",
      "metadata": {
        "id": "SUZodGWtSPpS",
        "colab_type": "code",
        "colab": {}
      },
      "source": [
        ""
      ],
      "execution_count": 0,
      "outputs": []
    },
    {
      "cell_type": "markdown",
      "metadata": {
        "id": "Se_znTDUeBSN",
        "colab_type": "text"
      },
      "source": [
        "***B2.4***"
      ]
    },
    {
      "cell_type": "code",
      "metadata": {
        "id": "LKKGQ6iXeBSO",
        "colab_type": "code",
        "colab": {}
      },
      "source": [
        "''' Add your code here '''"
      ],
      "execution_count": 0,
      "outputs": []
    },
    {
      "cell_type": "markdown",
      "metadata": {
        "id": "P7mF_eQJeBSS",
        "colab_type": "text"
      },
      "source": [
        "***B2.5***"
      ]
    },
    {
      "cell_type": "code",
      "metadata": {
        "id": "SKEK1Vy5eBST",
        "colab_type": "code",
        "colab": {}
      },
      "source": [
        "''' Add your code here '''"
      ],
      "execution_count": 0,
      "outputs": []
    },
    {
      "cell_type": "markdown",
      "metadata": {
        "id": "tTM0I1freBSY",
        "colab_type": "text"
      },
      "source": [
        "### B3. And Justice For All\n",
        "\n",
        "An ideal ranking scheme should not give undue advantage to authors who have been conducting research for a longer period of time and therefore have naturally published more papers when compared to a junior researcher. Does the ranking scheme designed by you in ``Step 2`` take this factor into account? If not, introduce variations in your ranking scheme to mitigate this effect. Do you observe anything odd with this new ranking? Clearly explain your observations.\n",
        "\n",
        "_Hint: What you did in part A4 may be useful here._"
      ]
    },
    {
      "cell_type": "code",
      "metadata": {
        "id": "JBqpC336eBSb",
        "colab_type": "code",
        "colab": {}
      },
      "source": [
        "''' Add your code here '''"
      ],
      "execution_count": 0,
      "outputs": []
    },
    {
      "cell_type": "markdown",
      "metadata": {
        "id": "N9U-TOy5eBSd",
        "colab_type": "text"
      },
      "source": [
        "## Task C. Trending topics\n",
        "\n",
        "Historically, the field of AI has witnessed research in two broad flavors: “symbolic” (logic, planning, control, etc.) vs. “connectionist” (neural networks, deep learning, Bayesian methods, etc.). Let’s see if we can see how the popularity of these two approaches to AI is reflected in the DBLP data.\n",
        "\n",
        "To this end, construct two dataframes: ``symbolic`` and ``connectionist``. ``symbolic`` is your paper-centric dataframe from part A1 filtered down to those papers whose titles contain at least one of the following words (not differentiating between upper and lower case letters): “logic”, “planning”, “control”; ``connectionist`` is a dataframe constructed in a similar manner, but with the words “deep”, “learning”, “feature”, “bayesian”. Plot the number of papers per year for ``symbolic`` and ``connectionist`` separately (i.e., 2 plots).\n",
        "1. Describe the trends you observe. Based on these plots alone, what might one conclude about the popularity of the two approaches to AI?\n",
        "2. Moving beyond these plots, what do you, as a careful data scientist, conclude about the popularity of symbolic vs. connectionist AI? Corroborate your reasoning with further plots.\n",
        "\n",
        "_Note: You could use the text handling utilities below to clean the text in the paper titles._"
      ]
    },
    {
      "cell_type": "code",
      "metadata": {
        "id": "mWKhqWgAeBSe",
        "colab_type": "code",
        "colab": {}
      },
      "source": [
        "# Text handling utilities\n",
        "from string import punctuation\n",
        "stopwords_list = open('data/stopwords.txt', 'r').readlines()\n",
        "stopwords_list = [x.strip() for x in stopwords_list]\n",
        "def stopword_remover(text):\n",
        "    text_list = text.split()\n",
        "    text_list = [x for x in text_list if x not in stopwords_list]\n",
        "    return ' '.join(text_list)\n",
        "def lowercase_all(text):\n",
        "    return text.lower()\n",
        "def remove_punct(text):\n",
        "    return ''.join([ch for ch in text if ch not in punctuation])"
      ],
      "execution_count": 0,
      "outputs": []
    },
    {
      "cell_type": "code",
      "metadata": {
        "id": "XQCN8BV-eBSg",
        "colab_type": "code",
        "colab": {}
      },
      "source": [
        "''' Add your code here '''"
      ],
      "execution_count": 0,
      "outputs": []
    },
    {
      "cell_type": "code",
      "metadata": {
        "id": "yjeKf9DfeBSk",
        "colab_type": "code",
        "colab": {}
      },
      "source": [
        "words_symbolic = ['logic', 'planning', 'control']\n",
        "''' Add your code here '''"
      ],
      "execution_count": 0,
      "outputs": []
    },
    {
      "cell_type": "code",
      "metadata": {
        "id": "BjdgNVxLeBSm",
        "colab_type": "code",
        "colab": {}
      },
      "source": [
        "words_connectionist = ['deep', 'learning', 'feature', 'bayesian']\n",
        "''' Add your code here '''"
      ],
      "execution_count": 0,
      "outputs": []
    }
  ]
}